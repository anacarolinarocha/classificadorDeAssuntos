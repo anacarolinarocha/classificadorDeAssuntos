{
 "cells": [
  {
   "cell_type": "markdown",
   "metadata": {},
   "source": [
    "# Classificação de Processos Trabalhistas segundo Assuntos da TPU-CNJ"
   ]
  },
  {
   "cell_type": "markdown",
   "metadata": {},
   "source": [
    "## Abordagem **Multi Classe (Single Label)**"
   ]
  },
  {
   "cell_type": "markdown",
   "metadata": {},
   "source": [
    "**Por Ana Carolina Pereira Rocha**"
   ]
  },
  {
   "cell_type": "code",
   "execution_count": 1,
   "metadata": {},
   "outputs": [
    {
     "name": "stderr",
     "output_type": "stream",
     "text": [
      "[nltk_data] Downloading package stopwords to\n",
      "[nltk_data]     /home/anarocha/nltk_data...\n",
      "[nltk_data]   Package stopwords is already up-to-date!\n",
      "[nltk_data] Downloading package rslp to /home/anarocha/nltk_data...\n",
      "[nltk_data]   Package rslp is already up-to-date!\n"
     ]
    }
   ],
   "source": [
    "from select_documentos_SingleLabel import *\n",
    "import sys\n",
    "sys.path.insert(1, '/home/anarocha/Documents/credentials')\n",
    "from credentials import *\n",
    "import pandas as pd\n",
    "from sqlalchemy import create_engine\n",
    "import time\n",
    "from datetime import timedelta\n",
    "from funcoes import *\n",
    "from imblearn.over_sampling import RandomOverSampler\n",
    "from sklearn.model_selection import train_test_split\n",
    "from sklearn.svm import LinearSVC\n",
    "from sklearn.metrics import confusion_matrix\n",
    "from matplotlib import pyplot as plt\n",
    "from sklearn.feature_extraction.text import TfidfVectorizer\n",
    "from sklearn.svm import SVC\n",
    "import os\n",
    "import lxml\n",
    "import csv\n",
    "import multiprocessing as mp\n",
    "from sklearn.metrics import multilabel_confusion_matrix"
   ]
  },
  {
   "cell_type": "code",
   "execution_count": 2,
   "metadata": {},
   "outputs": [],
   "source": [
    "float_formatter = lambda x: \"%.2f\" % x\n",
    "np.set_printoptions(formatter={'float_kind':float_formatter})"
   ]
  },
  {
   "cell_type": "markdown",
   "metadata": {},
   "source": [
    "# Recuperando dados"
   ]
  },
  {
   "cell_type": "markdown",
   "metadata": {},
   "source": [
    "Recuperando o conteúdo dos documentos no Postgres (são apenas documentos HTML)"
   ]
  },
  {
   "cell_type": "code",
   "execution_count": 5,
   "metadata": {},
   "outputs": [
    {
     "name": "stdout",
     "output_type": "stream",
     "text": [
      "Tempo para recuperar documentos:0:15:11.528116\n"
     ]
    }
   ],
   "source": [
    "start_time = time.time()\n",
    "#engine = create_engine(credentials_evolucao_2g) #evolucao\n",
    "engine = create_engine(credentials_trt15_2g) #bugfix trt 15\n",
    "df = pd.read_sql_query(select_teste, engine)\n",
    "end_time = time.time() - start_time\n",
    "print('Tempo para recuperar documentos:' + str(timedelta(seconds=end_time)))\n"
   ]
  },
  {
   "cell_type": "code",
   "execution_count": 7,
   "metadata": {},
   "outputs": [
    {
     "name": "stdout",
     "output_type": "stream",
     "text": [
      "Quantidade de documentos recuperados:2000\n"
     ]
    }
   ],
   "source": [
    "print('Quantidade de documentos recuperados:' + str(df.shape[0]))"
   ]
  },
  {
   "cell_type": "code",
   "execution_count": 3,
   "metadata": {},
   "outputs": [],
   "source": [
    "#df.to_csv('./listaProcessos_SingleLabel.csv', sep='#', quoting=csv.QUOTE_NONNUMERIC)\n",
    "df = pd.read_csv('./listaProcessos_SingleLabel.csv', sep='#', quoting=csv.QUOTE_NONNUMERIC)  \n",
    "df_metadados= df[['ds_orgao_julgador', 'ds_orgao_julgador_colegiado','nr_processo','id_processo_documento','codigo_documento','dt_juntada']]\n"
   ]
  },
  {
   "cell_type": "code",
   "execution_count": 4,
   "metadata": {},
   "outputs": [
    {
     "data": {
      "text/html": [
       "<div>\n",
       "<style scoped>\n",
       "    .dataframe tbody tr th:only-of-type {\n",
       "        vertical-align: middle;\n",
       "    }\n",
       "\n",
       "    .dataframe tbody tr th {\n",
       "        vertical-align: top;\n",
       "    }\n",
       "\n",
       "    .dataframe thead th {\n",
       "        text-align: right;\n",
       "    }\n",
       "</style>\n",
       "<table border=\"1\" class=\"dataframe\">\n",
       "  <thead>\n",
       "    <tr style=\"text-align: right;\">\n",
       "      <th></th>\n",
       "      <th>Unnamed: 0</th>\n",
       "      <th>ds_orgao_julgador</th>\n",
       "      <th>ds_orgao_julgador_colegiado</th>\n",
       "      <th>nr_processo</th>\n",
       "      <th>id_processo_documento</th>\n",
       "      <th>codigo_documento</th>\n",
       "      <th>dt_juntada</th>\n",
       "      <th>ds_modelo_documento</th>\n",
       "      <th>in_2546</th>\n",
       "      <th>in_2594</th>\n",
       "      <th>in_2086</th>\n",
       "    </tr>\n",
       "  </thead>\n",
       "  <tbody>\n",
       "    <tr>\n",
       "      <th>0</th>\n",
       "      <td>0.0</td>\n",
       "      <td>Gabinete do Desembargador Jorge Luiz Souto Mai...</td>\n",
       "      <td>6ª Câmara</td>\n",
       "      <td>0011869-33.2017.5.15.0062</td>\n",
       "      <td>40236164.0</td>\n",
       "      <td>f5a1c7d</td>\n",
       "      <td>2019-02-05 16:05:06.736</td>\n",
       "      <td>&lt;p&gt;&lt;!--[if !mso]&gt; &lt;mce:style&gt;&lt;!  v\\:* {behavio...</td>\n",
       "      <td>0.0</td>\n",
       "      <td>0.0</td>\n",
       "      <td>1.0</td>\n",
       "    </tr>\n",
       "    <tr>\n",
       "      <th>1</th>\n",
       "      <td>1.0</td>\n",
       "      <td>Gabinete do Desembargador Jorge Luiz Souto Mai...</td>\n",
       "      <td>6ª Câmara</td>\n",
       "      <td>0010292-14.2018.5.15.0085</td>\n",
       "      <td>40713429.0</td>\n",
       "      <td>3d8a093</td>\n",
       "      <td>2018-12-04 11:56:30.634</td>\n",
       "      <td>&lt;p&gt;&lt;!--[if gte mso 9]&gt;&lt;xml&gt; &lt;o:OfficeDocumentS...</td>\n",
       "      <td>0.0</td>\n",
       "      <td>0.0</td>\n",
       "      <td>1.0</td>\n",
       "    </tr>\n",
       "    <tr>\n",
       "      <th>2</th>\n",
       "      <td>2.0</td>\n",
       "      <td>Gabinete do Desembargador Jorge Luiz Souto Mai...</td>\n",
       "      <td>6ª Câmara</td>\n",
       "      <td>0012524-53.2016.5.15.0025</td>\n",
       "      <td>37223128.0</td>\n",
       "      <td>17a07a7</td>\n",
       "      <td>2018-10-24 15:33:36.532</td>\n",
       "      <td>&lt;p&gt;&amp;nbsp;&lt;/p&gt;\\n&lt;p class=\"MsoNormal\" style=\"tex...</td>\n",
       "      <td>1.0</td>\n",
       "      <td>0.0</td>\n",
       "      <td>0.0</td>\n",
       "    </tr>\n",
       "    <tr>\n",
       "      <th>3</th>\n",
       "      <td>3.0</td>\n",
       "      <td>Gabinete do Desembargador Jorge Luiz Souto Mai...</td>\n",
       "      <td>6ª Câmara</td>\n",
       "      <td>0010277-06.2018.5.15.0001</td>\n",
       "      <td>38024998.0</td>\n",
       "      <td>3264f0a</td>\n",
       "      <td>2018-10-17 11:25:20.747</td>\n",
       "      <td>&lt;p&gt;&amp;nbsp;&lt;/p&gt;\\n&lt;h1 class=\"western\"&gt;&lt;span style...</td>\n",
       "      <td>1.0</td>\n",
       "      <td>0.0</td>\n",
       "      <td>0.0</td>\n",
       "    </tr>\n",
       "    <tr>\n",
       "      <th>4</th>\n",
       "      <td>4.0</td>\n",
       "      <td>Gabinete do Desembargador Jorge Luiz Souto Mai...</td>\n",
       "      <td>6ª Câmara</td>\n",
       "      <td>0012149-27.2017.5.15.0022</td>\n",
       "      <td>39793082.0</td>\n",
       "      <td>d5c4128</td>\n",
       "      <td>2018-11-15 11:27:24.267</td>\n",
       "      <td>&lt;p&gt;&lt;!--[if gte mso 9]&gt;&lt;xml&gt; &lt;o:OfficeDocumentS...</td>\n",
       "      <td>0.0</td>\n",
       "      <td>0.0</td>\n",
       "      <td>1.0</td>\n",
       "    </tr>\n",
       "  </tbody>\n",
       "</table>\n",
       "</div>"
      ],
      "text/plain": [
       "   Unnamed: 0                                  ds_orgao_julgador  \\\n",
       "0         0.0  Gabinete do Desembargador Jorge Luiz Souto Mai...   \n",
       "1         1.0  Gabinete do Desembargador Jorge Luiz Souto Mai...   \n",
       "2         2.0  Gabinete do Desembargador Jorge Luiz Souto Mai...   \n",
       "3         3.0  Gabinete do Desembargador Jorge Luiz Souto Mai...   \n",
       "4         4.0  Gabinete do Desembargador Jorge Luiz Souto Mai...   \n",
       "\n",
       "  ds_orgao_julgador_colegiado                nr_processo  \\\n",
       "0                   6ª Câmara  0011869-33.2017.5.15.0062   \n",
       "1                   6ª Câmara  0010292-14.2018.5.15.0085   \n",
       "2                   6ª Câmara  0012524-53.2016.5.15.0025   \n",
       "3                   6ª Câmara  0010277-06.2018.5.15.0001   \n",
       "4                   6ª Câmara  0012149-27.2017.5.15.0022   \n",
       "\n",
       "   id_processo_documento codigo_documento               dt_juntada  \\\n",
       "0             40236164.0          f5a1c7d  2019-02-05 16:05:06.736   \n",
       "1             40713429.0          3d8a093  2018-12-04 11:56:30.634   \n",
       "2             37223128.0          17a07a7  2018-10-24 15:33:36.532   \n",
       "3             38024998.0          3264f0a  2018-10-17 11:25:20.747   \n",
       "4             39793082.0          d5c4128  2018-11-15 11:27:24.267   \n",
       "\n",
       "                                 ds_modelo_documento  in_2546  in_2594  \\\n",
       "0  <p><!--[if !mso]> <mce:style><!  v\\:* {behavio...      0.0      0.0   \n",
       "1  <p><!--[if gte mso 9]><xml> <o:OfficeDocumentS...      0.0      0.0   \n",
       "2  <p>&nbsp;</p>\\n<p class=\"MsoNormal\" style=\"tex...      1.0      0.0   \n",
       "3  <p>&nbsp;</p>\\n<h1 class=\"western\"><span style...      1.0      0.0   \n",
       "4  <p><!--[if gte mso 9]><xml> <o:OfficeDocumentS...      0.0      0.0   \n",
       "\n",
       "   in_2086  \n",
       "0      1.0  \n",
       "1      1.0  \n",
       "2      0.0  \n",
       "3      0.0  \n",
       "4      1.0  "
      ]
     },
     "execution_count": 4,
     "metadata": {},
     "output_type": "execute_result"
    }
   ],
   "source": [
    "df.head()"
   ]
  },
  {
   "cell_type": "code",
   "execution_count": null,
   "metadata": {},
   "outputs": [],
   "source": [
    "#The MultiLabelBinarizer transformer can be used to convert between a collection of collections of labels and the indicator format."
   ]
  },
  {
   "cell_type": "code",
   "execution_count": 5,
   "metadata": {},
   "outputs": [
    {
     "data": {
      "text/html": [
       "<div>\n",
       "<style scoped>\n",
       "    .dataframe tbody tr th:only-of-type {\n",
       "        vertical-align: middle;\n",
       "    }\n",
       "\n",
       "    .dataframe tbody tr th {\n",
       "        vertical-align: top;\n",
       "    }\n",
       "\n",
       "    .dataframe thead th {\n",
       "        text-align: right;\n",
       "    }\n",
       "</style>\n",
       "<table border=\"1\" class=\"dataframe\">\n",
       "  <thead>\n",
       "    <tr style=\"text-align: right;\">\n",
       "      <th></th>\n",
       "      <th>ds_orgao_julgador</th>\n",
       "      <th>ds_orgao_julgador_colegiado</th>\n",
       "      <th>nr_processo</th>\n",
       "      <th>id_processo_documento</th>\n",
       "      <th>codigo_documento</th>\n",
       "      <th>dt_juntada</th>\n",
       "    </tr>\n",
       "  </thead>\n",
       "  <tbody>\n",
       "    <tr>\n",
       "      <th>0</th>\n",
       "      <td>Gabinete do Desembargador Jorge Luiz Souto Mai...</td>\n",
       "      <td>6ª Câmara</td>\n",
       "      <td>0011869-33.2017.5.15.0062</td>\n",
       "      <td>40236164.0</td>\n",
       "      <td>f5a1c7d</td>\n",
       "      <td>2019-02-05 16:05:06.736</td>\n",
       "    </tr>\n",
       "    <tr>\n",
       "      <th>1</th>\n",
       "      <td>Gabinete do Desembargador Jorge Luiz Souto Mai...</td>\n",
       "      <td>6ª Câmara</td>\n",
       "      <td>0010292-14.2018.5.15.0085</td>\n",
       "      <td>40713429.0</td>\n",
       "      <td>3d8a093</td>\n",
       "      <td>2018-12-04 11:56:30.634</td>\n",
       "    </tr>\n",
       "    <tr>\n",
       "      <th>2</th>\n",
       "      <td>Gabinete do Desembargador Jorge Luiz Souto Mai...</td>\n",
       "      <td>6ª Câmara</td>\n",
       "      <td>0012524-53.2016.5.15.0025</td>\n",
       "      <td>37223128.0</td>\n",
       "      <td>17a07a7</td>\n",
       "      <td>2018-10-24 15:33:36.532</td>\n",
       "    </tr>\n",
       "    <tr>\n",
       "      <th>3</th>\n",
       "      <td>Gabinete do Desembargador Jorge Luiz Souto Mai...</td>\n",
       "      <td>6ª Câmara</td>\n",
       "      <td>0010277-06.2018.5.15.0001</td>\n",
       "      <td>38024998.0</td>\n",
       "      <td>3264f0a</td>\n",
       "      <td>2018-10-17 11:25:20.747</td>\n",
       "    </tr>\n",
       "    <tr>\n",
       "      <th>4</th>\n",
       "      <td>Gabinete do Desembargador Jorge Luiz Souto Mai...</td>\n",
       "      <td>6ª Câmara</td>\n",
       "      <td>0012149-27.2017.5.15.0022</td>\n",
       "      <td>39793082.0</td>\n",
       "      <td>d5c4128</td>\n",
       "      <td>2018-11-15 11:27:24.267</td>\n",
       "    </tr>\n",
       "  </tbody>\n",
       "</table>\n",
       "</div>"
      ],
      "text/plain": [
       "                                   ds_orgao_julgador  \\\n",
       "0  Gabinete do Desembargador Jorge Luiz Souto Mai...   \n",
       "1  Gabinete do Desembargador Jorge Luiz Souto Mai...   \n",
       "2  Gabinete do Desembargador Jorge Luiz Souto Mai...   \n",
       "3  Gabinete do Desembargador Jorge Luiz Souto Mai...   \n",
       "4  Gabinete do Desembargador Jorge Luiz Souto Mai...   \n",
       "\n",
       "  ds_orgao_julgador_colegiado                nr_processo  \\\n",
       "0                   6ª Câmara  0011869-33.2017.5.15.0062   \n",
       "1                   6ª Câmara  0010292-14.2018.5.15.0085   \n",
       "2                   6ª Câmara  0012524-53.2016.5.15.0025   \n",
       "3                   6ª Câmara  0010277-06.2018.5.15.0001   \n",
       "4                   6ª Câmara  0012149-27.2017.5.15.0022   \n",
       "\n",
       "   id_processo_documento codigo_documento               dt_juntada  \n",
       "0             40236164.0          f5a1c7d  2019-02-05 16:05:06.736  \n",
       "1             40713429.0          3d8a093  2018-12-04 11:56:30.634  \n",
       "2             37223128.0          17a07a7  2018-10-24 15:33:36.532  \n",
       "3             38024998.0          3264f0a  2018-10-17 11:25:20.747  \n",
       "4             39793082.0          d5c4128  2018-11-15 11:27:24.267  "
      ]
     },
     "execution_count": 5,
     "metadata": {},
     "output_type": "execute_result"
    }
   ],
   "source": [
    "df_metadados.head()"
   ]
  },
  {
   "cell_type": "markdown",
   "metadata": {},
   "source": [
    "# Pré-processamento do texto"
   ]
  },
  {
   "cell_type": "code",
   "execution_count": null,
   "metadata": {},
   "outputs": [],
   "source": [
    "#teste = pd.DataFrame(df.head(1000))"
   ]
  },
  {
   "cell_type": "markdown",
   "metadata": {},
   "source": [
    "Remove as tags html, \\n, entre outros"
   ]
  },
  {
   "cell_type": "code",
   "execution_count": 92,
   "metadata": {},
   "outputs": [],
   "source": [
    "# TODO: fazer stemmizacao\n",
    "\n",
    "#def stemmize(text):\n",
    "#        text = text.split()\n",
    "#        text = [palavra for palavra in text if len(palavra)>3]\n",
    "#        text =  [stemmer.stem(palavra) for palavra in text]\n",
    "#        return \"\".join(text)\n",
    "#listaProcessada = Parallel(n_jobs = 7)(delayed(BeautifulSoup(stemmize(documento), 'lxml').get_text(strip=True))(documento) for documento in df['ds_modelo_documento'])"
   ]
  },
  {
   "cell_type": "code",
   "execution_count": 7,
   "metadata": {},
   "outputs": [],
   "source": [
    "def removeHTML(text):\n",
    "    return BeautifulSoup(text, 'lxml').get_text(strip=True)"
   ]
  },
  {
   "cell_type": "code",
   "execution_count": 8,
   "metadata": {},
   "outputs": [
    {
     "data": {
      "text/plain": [
       "(2000, 11)"
      ]
     },
     "execution_count": 8,
     "metadata": {},
     "output_type": "execute_result"
    }
   ],
   "source": [
    "df.shape"
   ]
  },
  {
   "cell_type": "code",
   "execution_count": 9,
   "metadata": {},
   "outputs": [],
   "source": [
    "df = df.dropna()"
   ]
  },
  {
   "cell_type": "code",
   "execution_count": 10,
   "metadata": {},
   "outputs": [
    {
     "data": {
      "text/plain": [
       "(2000, 11)"
      ]
     },
     "execution_count": 10,
     "metadata": {},
     "output_type": "execute_result"
    }
   ],
   "source": [
    "df.shape"
   ]
  },
  {
   "cell_type": "code",
   "execution_count": 11,
   "metadata": {},
   "outputs": [
    {
     "name": "stdout",
     "output_type": "stream",
     "text": [
      "Tempo para processamento do texto:0:00:07.056604\n"
     ]
    }
   ],
   "source": [
    "pool = mp.Pool(mp.cpu_count())\n",
    "start_time = time.time()\n",
    "df['texto_processado'] = pool.map(removeHTML, [row for row in df['ds_modelo_documento']])\n",
    "#df['texto_processado'] = df['ds_modelo_documento'].apply(lambda x:removeHTML(x))\n",
    "pool.close()   \n",
    "end_time = time.time() - start_time\n",
    "print('Tempo para processamento do texto:' + str(timedelta(seconds=end_time)))"
   ]
  },
  {
   "cell_type": "code",
   "execution_count": 12,
   "metadata": {},
   "outputs": [
    {
     "data": {
      "text/html": [
       "<div>\n",
       "<style scoped>\n",
       "    .dataframe tbody tr th:only-of-type {\n",
       "        vertical-align: middle;\n",
       "    }\n",
       "\n",
       "    .dataframe tbody tr th {\n",
       "        vertical-align: top;\n",
       "    }\n",
       "\n",
       "    .dataframe thead th {\n",
       "        text-align: right;\n",
       "    }\n",
       "</style>\n",
       "<table border=\"1\" class=\"dataframe\">\n",
       "  <thead>\n",
       "    <tr style=\"text-align: right;\">\n",
       "      <th></th>\n",
       "      <th>Unnamed: 0</th>\n",
       "      <th>ds_orgao_julgador</th>\n",
       "      <th>ds_orgao_julgador_colegiado</th>\n",
       "      <th>nr_processo</th>\n",
       "      <th>id_processo_documento</th>\n",
       "      <th>codigo_documento</th>\n",
       "      <th>dt_juntada</th>\n",
       "      <th>ds_modelo_documento</th>\n",
       "      <th>in_2546</th>\n",
       "      <th>in_2594</th>\n",
       "      <th>in_2086</th>\n",
       "      <th>texto_processado</th>\n",
       "    </tr>\n",
       "  </thead>\n",
       "  <tbody>\n",
       "    <tr>\n",
       "      <th>0</th>\n",
       "      <td>0.0</td>\n",
       "      <td>Gabinete do Desembargador Jorge Luiz Souto Mai...</td>\n",
       "      <td>6ª Câmara</td>\n",
       "      <td>0011869-33.2017.5.15.0062</td>\n",
       "      <td>40236164.0</td>\n",
       "      <td>f5a1c7d</td>\n",
       "      <td>2019-02-05 16:05:06.736</td>\n",
       "      <td>&lt;p&gt;&lt;!--[if !mso]&gt; &lt;mce:style&gt;&lt;!  v\\:* {behavio...</td>\n",
       "      <td>0.0</td>\n",
       "      <td>0.0</td>\n",
       "      <td>1.0</td>\n",
       "      <td>EXCELENTÍSSIMO SENHOR DOUTOR JUIZ DA MM VARA D...</td>\n",
       "    </tr>\n",
       "    <tr>\n",
       "      <th>1</th>\n",
       "      <td>1.0</td>\n",
       "      <td>Gabinete do Desembargador Jorge Luiz Souto Mai...</td>\n",
       "      <td>6ª Câmara</td>\n",
       "      <td>0010292-14.2018.5.15.0085</td>\n",
       "      <td>40713429.0</td>\n",
       "      <td>3d8a093</td>\n",
       "      <td>2018-12-04 11:56:30.634</td>\n",
       "      <td>&lt;p&gt;&lt;!--[if gte mso 9]&gt;&lt;xml&gt; &lt;o:OfficeDocumentS...</td>\n",
       "      <td>0.0</td>\n",
       "      <td>0.0</td>\n",
       "      <td>1.0</td>\n",
       "      <td>EXCELENTÍSSIMO(A) SENHOR(A) DOUTOR(A) JUIZ(A) ...</td>\n",
       "    </tr>\n",
       "    <tr>\n",
       "      <th>2</th>\n",
       "      <td>2.0</td>\n",
       "      <td>Gabinete do Desembargador Jorge Luiz Souto Mai...</td>\n",
       "      <td>6ª Câmara</td>\n",
       "      <td>0012524-53.2016.5.15.0025</td>\n",
       "      <td>37223128.0</td>\n",
       "      <td>17a07a7</td>\n",
       "      <td>2018-10-24 15:33:36.532</td>\n",
       "      <td>&lt;p&gt;&amp;nbsp;&lt;/p&gt;\\n&lt;p class=\"MsoNormal\" style=\"tex...</td>\n",
       "      <td>1.0</td>\n",
       "      <td>0.0</td>\n",
       "      <td>0.0</td>\n",
       "      <td>Excelentíssimo Senhor Doutor Juiz Federal da V...</td>\n",
       "    </tr>\n",
       "    <tr>\n",
       "      <th>3</th>\n",
       "      <td>3.0</td>\n",
       "      <td>Gabinete do Desembargador Jorge Luiz Souto Mai...</td>\n",
       "      <td>6ª Câmara</td>\n",
       "      <td>0010277-06.2018.5.15.0001</td>\n",
       "      <td>38024998.0</td>\n",
       "      <td>3264f0a</td>\n",
       "      <td>2018-10-17 11:25:20.747</td>\n",
       "      <td>&lt;p&gt;&amp;nbsp;&lt;/p&gt;\\n&lt;h1 class=\"western\"&gt;&lt;span style...</td>\n",
       "      <td>1.0</td>\n",
       "      <td>0.0</td>\n",
       "      <td>0.0</td>\n",
       "      <td>EXMO/A SENHOR/A DR/A JUIZ/A DO TRABALHO DA 1ª ...</td>\n",
       "    </tr>\n",
       "    <tr>\n",
       "      <th>4</th>\n",
       "      <td>4.0</td>\n",
       "      <td>Gabinete do Desembargador Jorge Luiz Souto Mai...</td>\n",
       "      <td>6ª Câmara</td>\n",
       "      <td>0012149-27.2017.5.15.0022</td>\n",
       "      <td>39793082.0</td>\n",
       "      <td>d5c4128</td>\n",
       "      <td>2018-11-15 11:27:24.267</td>\n",
       "      <td>&lt;p&gt;&lt;!--[if gte mso 9]&gt;&lt;xml&gt; &lt;o:OfficeDocumentS...</td>\n",
       "      <td>0.0</td>\n",
       "      <td>0.0</td>\n",
       "      <td>1.0</td>\n",
       "      <td>EXCELENTÍSSIMA SRA. DRA. JUÍZA DA VARA DO TRAB...</td>\n",
       "    </tr>\n",
       "  </tbody>\n",
       "</table>\n",
       "</div>"
      ],
      "text/plain": [
       "   Unnamed: 0                                  ds_orgao_julgador  \\\n",
       "0         0.0  Gabinete do Desembargador Jorge Luiz Souto Mai...   \n",
       "1         1.0  Gabinete do Desembargador Jorge Luiz Souto Mai...   \n",
       "2         2.0  Gabinete do Desembargador Jorge Luiz Souto Mai...   \n",
       "3         3.0  Gabinete do Desembargador Jorge Luiz Souto Mai...   \n",
       "4         4.0  Gabinete do Desembargador Jorge Luiz Souto Mai...   \n",
       "\n",
       "  ds_orgao_julgador_colegiado                nr_processo  \\\n",
       "0                   6ª Câmara  0011869-33.2017.5.15.0062   \n",
       "1                   6ª Câmara  0010292-14.2018.5.15.0085   \n",
       "2                   6ª Câmara  0012524-53.2016.5.15.0025   \n",
       "3                   6ª Câmara  0010277-06.2018.5.15.0001   \n",
       "4                   6ª Câmara  0012149-27.2017.5.15.0022   \n",
       "\n",
       "   id_processo_documento codigo_documento               dt_juntada  \\\n",
       "0             40236164.0          f5a1c7d  2019-02-05 16:05:06.736   \n",
       "1             40713429.0          3d8a093  2018-12-04 11:56:30.634   \n",
       "2             37223128.0          17a07a7  2018-10-24 15:33:36.532   \n",
       "3             38024998.0          3264f0a  2018-10-17 11:25:20.747   \n",
       "4             39793082.0          d5c4128  2018-11-15 11:27:24.267   \n",
       "\n",
       "                                 ds_modelo_documento  in_2546  in_2594  \\\n",
       "0  <p><!--[if !mso]> <mce:style><!  v\\:* {behavio...      0.0      0.0   \n",
       "1  <p><!--[if gte mso 9]><xml> <o:OfficeDocumentS...      0.0      0.0   \n",
       "2  <p>&nbsp;</p>\\n<p class=\"MsoNormal\" style=\"tex...      1.0      0.0   \n",
       "3  <p>&nbsp;</p>\\n<h1 class=\"western\"><span style...      1.0      0.0   \n",
       "4  <p><!--[if gte mso 9]><xml> <o:OfficeDocumentS...      0.0      0.0   \n",
       "\n",
       "   in_2086                                   texto_processado  \n",
       "0      1.0  EXCELENTÍSSIMO SENHOR DOUTOR JUIZ DA MM VARA D...  \n",
       "1      1.0  EXCELENTÍSSIMO(A) SENHOR(A) DOUTOR(A) JUIZ(A) ...  \n",
       "2      0.0  Excelentíssimo Senhor Doutor Juiz Federal da V...  \n",
       "3      0.0  EXMO/A SENHOR/A DR/A JUIZ/A DO TRABALHO DA 1ª ...  \n",
       "4      1.0  EXCELENTÍSSIMA SRA. DRA. JUÍZA DA VARA DO TRAB...  "
      ]
     },
     "execution_count": 12,
     "metadata": {},
     "output_type": "execute_result"
    }
   ],
   "source": [
    "df.head()"
   ]
  },
  {
   "cell_type": "code",
   "execution_count": 13,
   "metadata": {},
   "outputs": [],
   "source": [
    "vectorizer = TfidfVectorizer(strip_accents='ascii', stop_words=stopwords, token_pattern=r'(?u)\\b[A-Za-z]+\\b', max_df=0.8)\n",
    "#vectorizer = TfidfVectorizer(strip_accents='ascii', stop_words=stopwords)\n",
    "X = vectorizer.fit(df['texto_processado'])"
   ]
  },
  {
   "cell_type": "code",
   "execution_count": 14,
   "metadata": {},
   "outputs": [
    {
     "data": {
      "text/plain": [
       "59432"
      ]
     },
     "execution_count": 14,
     "metadata": {},
     "output_type": "execute_result"
    }
   ],
   "source": [
    "len(X.vocabulary_)"
   ]
  },
  {
   "cell_type": "markdown",
   "metadata": {},
   "source": [
    "# --------------------------------------------------------------------------------------------------------------"
   ]
  },
  {
   "cell_type": "markdown",
   "metadata": {},
   "source": [
    "# Clasificação de um assunto único"
   ]
  },
  {
   "cell_type": "markdown",
   "metadata": {},
   "source": [
    "#### Classifica se o processo tem o assunto X ou não. É uma classificação binária simples de One-versus-all"
   ]
  },
  {
   "cell_type": "markdown",
   "metadata": {},
   "source": [
    "### Manipulando dataset"
   ]
  },
  {
   "cell_type": "markdown",
   "metadata": {},
   "source": [
    "Escolhendo variavel alvo:"
   ]
  },
  {
   "cell_type": "code",
   "execution_count": 91,
   "metadata": {},
   "outputs": [],
   "source": [
    "y_2086 = df['in_2086']"
   ]
  },
  {
   "cell_type": "code",
   "execution_count": 92,
   "metadata": {},
   "outputs": [
    {
     "data": {
      "text/plain": [
       "in_2086\n",
       "0     740\n",
       "1    1260\n",
       "dtype: int64"
      ]
     },
     "execution_count": 92,
     "metadata": {},
     "output_type": "execute_result"
    }
   ],
   "source": [
    "df.groupby(['in_2086']).size()"
   ]
  },
  {
   "cell_type": "markdown",
   "metadata": {},
   "source": [
    "Separando conjuntos de treinamento e teste"
   ]
  },
  {
   "cell_type": "code",
   "execution_count": 93,
   "metadata": {},
   "outputs": [],
   "source": [
    "X_2086_train, X_2086_test, y_2086_train, y_2086_test = train_test_split( df, y_2086, test_size=0.4, random_state=42, stratify=y_2086)"
   ]
  },
  {
   "cell_type": "code",
   "execution_count": 117,
   "metadata": {},
   "outputs": [],
   "source": [
    "X_2086_train_tfidf = X.transform(X_2086_train['texto_processado'])\n",
    "X_2086_test_tfidf = X.transform(X_2086_test['texto_processado'])"
   ]
  },
  {
   "cell_type": "code",
   "execution_count": 118,
   "metadata": {},
   "outputs": [
    {
     "name": "stdout",
     "output_type": "stream",
     "text": [
      "(1200, 59432) (800, 59432)\n"
     ]
    }
   ],
   "source": [
    "print (X_2086_train_tfidf.shape, X_2086_test_tfidf.shape)"
   ]
  },
  {
   "cell_type": "code",
   "execution_count": 119,
   "metadata": {},
   "outputs": [
    {
     "data": {
      "text/plain": [
       "array([[<matplotlib.axes._subplots.AxesSubplot object at 0x7fbbadd60780>]],\n",
       "      dtype=object)"
      ]
     },
     "execution_count": 119,
     "metadata": {},
     "output_type": "execute_result"
    },
    {
     "data": {
      "image/png": "[encoded data removed]",
      "text/plain": [
       "<Figure size 432x288 with 1 Axes>"
      ]
     },
     "metadata": {
      "needs_background": "light"
     },
     "output_type": "display_data"
    }
   ],
   "source": [
    "pd.DataFrame(y_2086_train).hist()"
   ]
  },
  {
   "cell_type": "code",
   "execution_count": 120,
   "metadata": {},
   "outputs": [],
   "source": [
    "ros =RandomOverSampler(random_state=42)\n",
    "X_2086_train_tfidf_resampled, y_2086_train_resampled = ros.fit_resample(X_2086_train_tfidf, y_2086_train)"
   ]
  },
  {
   "cell_type": "code",
   "execution_count": 121,
   "metadata": {},
   "outputs": [
    {
     "data": {
      "text/plain": [
       "array([[<matplotlib.axes._subplots.AxesSubplot object at 0x7fbbadf3cd68>]],\n",
       "      dtype=object)"
      ]
     },
     "execution_count": 121,
     "metadata": {},
     "output_type": "execute_result"
    },
    {
     "data": {
      "image/png": "[encoded data removed]",
      "text/plain": [
       "<Figure size 432x288 with 1 Axes>"
      ]
     },
     "metadata": {
      "needs_background": "light"
     },
     "output_type": "display_data"
    }
   ],
   "source": [
    "pd.DataFrame(y_2086_train_resampled).hist()"
   ]
  },
  {
   "cell_type": "markdown",
   "metadata": {},
   "source": [
    "### Treinamento "
   ]
  },
  {
   "cell_type": "code",
   "execution_count": 122,
   "metadata": {},
   "outputs": [
    {
     "name": "stdout",
     "output_type": "stream",
     "text": [
      "Tempo para a criação do modelo:0:00:41.691353\n"
     ]
    }
   ],
   "source": [
    "clf_svc=SVC(kernel='linear', probability=True)\n",
    "grid_param_svc = {\n",
    "    'kernel': ['linear'],\n",
    "    'probability' : [True]\n",
    "}\n",
    "\n",
    "start_time = time.time()\n",
    "#clf_svc.fit(X_2594_train_tfidf_resampled, y_2594_train_resampled) \n",
    "#cv_scores_svc = cross_val_score(clf_svc, X_2594_train_tfidf_resampled, y_2594_train_resampled, cv=3)\n",
    "gdsr_svc = GridSearchCV(estimator=clf_svc,\n",
    "                     param_grid=grid_param_svc,\n",
    "                     scoring='accuracy',\n",
    "                     cv=3,\n",
    "                     n_jobs=-1)\n",
    "gdsr_svc.fit(X_2086_train_tfidf_resampled, y_2086_train_resampled)\n",
    "end_time = time.time() - start_time\n",
    "print('Tempo para a criação do modelo:' + str(timedelta(seconds=end_time)))\n"
   ]
  },
  {
   "cell_type": "code",
   "execution_count": 123,
   "metadata": {},
   "outputs": [
    {
     "name": "stdout",
     "output_type": "stream",
     "text": [
      "Melhores parametros para SVC: {'kernel': 'linear', 'probability': True}\n"
     ]
    }
   ],
   "source": [
    "best_parameters_svc = gdsr_svc.best_params_\n",
    "print('Melhores parametros para SVC:',best_parameters_svc)"
   ]
  },
  {
   "cell_type": "code",
   "execution_count": 124,
   "metadata": {},
   "outputs": [
    {
     "name": "stdout",
     "output_type": "stream",
     "text": [
      "Melhor acurácea para SVC: 0.8492063492063492\n"
     ]
    }
   ],
   "source": [
    "best_result_scv = gdsr_svc.best_score_\n",
    "print('Melhor acurácea para SVC:',best_result_scv)"
   ]
  },
  {
   "cell_type": "code",
   "execution_count": 125,
   "metadata": {},
   "outputs": [
    {
     "data": {
      "text/plain": [
       "SVC(C=1.0, cache_size=200, class_weight=None, coef0=0.0,\n",
       "    decision_function_shape='ovr', degree=3, gamma='auto_deprecated',\n",
       "    kernel='linear', max_iter=-1, probability=True, random_state=None,\n",
       "    shrinking=True, tol=0.001, verbose=False)"
      ]
     },
     "execution_count": 125,
     "metadata": {},
     "output_type": "execute_result"
    }
   ],
   "source": [
    "gdsr_svc.best_estimator_"
   ]
  },
  {
   "cell_type": "markdown",
   "metadata": {},
   "source": [
    "### Teste "
   ]
  },
  {
   "cell_type": "code",
   "execution_count": 126,
   "metadata": {},
   "outputs": [],
   "source": [
    "y_pred_svc = gdsr_svc.predict(X_2086_test_tfidf)\n"
   ]
  },
  {
   "cell_type": "code",
   "execution_count": 127,
   "metadata": {},
   "outputs": [
    {
     "data": {
      "text/plain": [
       "(800,)"
      ]
     },
     "execution_count": 127,
     "metadata": {},
     "output_type": "execute_result"
    }
   ],
   "source": [
    "y_pred_svc.shape"
   ]
  },
  {
   "cell_type": "code",
   "execution_count": 128,
   "metadata": {},
   "outputs": [
    {
     "name": "stdout",
     "output_type": "stream",
     "text": [
      "Confusion matrix SVC:\n",
      " [[204  92]\n",
      " [ 55 449]]\n"
     ]
    }
   ],
   "source": [
    "conf_mat = confusion_matrix(y_true=y_2086_test, y_pred=y_pred_svc)\n",
    "print('Confusion matrix SVC:\\n', conf_mat)"
   ]
  },
  {
   "cell_type": "code",
   "execution_count": 108,
   "metadata": {},
   "outputs": [],
   "source": [
    "y_pred_proba_svc = gdsr_svc.predict_proba(X_2086_test_tfidf)"
   ]
  },
  {
   "cell_type": "code",
   "execution_count": 129,
   "metadata": {},
   "outputs": [
    {
     "data": {
      "text/plain": [
       "array([[0.11, 0.89],\n",
       "       [0.54, 0.46],\n",
       "       [0.29, 0.71],\n",
       "       [0.86, 0.14],\n",
       "       [0.27, 0.73]])"
      ]
     },
     "execution_count": 129,
     "metadata": {},
     "output_type": "execute_result"
    }
   ],
   "source": [
    "y_pred_proba_svc[0:5]"
   ]
  },
  {
   "cell_type": "markdown",
   "metadata": {},
   "source": [
    "### Abrindo um documento específico para validção"
   ]
  },
  {
   "cell_type": "code",
   "execution_count": 130,
   "metadata": {},
   "outputs": [
    {
     "data": {
      "text/plain": [
       "True"
      ]
     },
     "execution_count": 130,
     "metadata": {},
     "output_type": "execute_result"
    }
   ],
   "source": [
    "f = open(\"./teste.html\", \"w\")\n",
    "f.write(X_2594_test.iloc[0]['ds_modelo_documento'])\n",
    "f.close()\n",
    "import webbrowser\n",
    "webbrowser.get('firefox').open_new_tab('./teste.html') \n"
   ]
  },
  {
   "cell_type": "code",
   "execution_count": 114,
   "metadata": {},
   "outputs": [],
   "source": [
    "os.remove('./teste.html')"
   ]
  },
  {
   "cell_type": "markdown",
   "metadata": {},
   "source": [
    "Na prática essa abordagem seria um pouco dificil de implementar, porque iria requerer o deplot de todos os modelos e a normalização das probabilidades para que os resultados se tornassem comparáveis e se pudesse recuperar os N assuntos mais prováveis."
   ]
  },
  {
   "cell_type": "markdown",
   "metadata": {},
   "source": [
    "# -------------------------------------------------------------------------------------------------"
   ]
  },
  {
   "cell_type": "markdown",
   "metadata": {},
   "source": [
    "# Classificação Multi Classe"
   ]
  },
  {
   "cell_type": "markdown",
   "metadata": {},
   "source": [
    "#### Classifica quanto ao assunto principal, dentre vários assuntos possíveis"
   ]
  },
  {
   "cell_type": "markdown",
   "metadata": {},
   "source": [
    "Fazendo nova recuperacao dos dados para que eles venham com uma única coluna com o assunto principal"
   ]
  },
  {
   "cell_type": "code",
   "execution_count": null,
   "metadata": {},
   "outputs": [],
   "source": [
    "from select_documentos_MultiClasse import *"
   ]
  },
  {
   "cell_type": "code",
   "execution_count": null,
   "metadata": {},
   "outputs": [],
   "source": [
    "pool = mp.Pool(mp.cpu_count())\n",
    "start_time = time.time()\n",
    "df['texto_processado'] = pool.map(removeHTML, [row for row in df['ds_modelo_documento']])\n",
    "#df['texto_processado'] = df['ds_modelo_documento'].apply(lambda x:removeHTML(x))\n",
    "pool.close()   \n",
    "end_time = time.time() - start_time\n",
    "print('Tempo para processamento do texto:' + str(timedelta(seconds=end_time)))"
   ]
  },
  {
   "cell_type": "markdown",
   "metadata": {},
   "source": [
    "### Manipulando dataset"
   ]
  },
  {
   "cell_type": "markdown",
   "metadata": {},
   "source": [
    "Separando conjunto de treinamento e teste:"
   ]
  },
  {
   "cell_type": "code",
   "execution_count": 132,
   "metadata": {},
   "outputs": [
    {
     "name": "stdout",
     "output_type": "stream",
     "text": [
      "(1409, 11) (591, 11)\n"
     ]
    }
   ],
   "source": [
    "msk = np.random.rand(len(df)) < 0.7\n",
    "X_train = df[msk]\n",
    "X_test = df[~msk]\n",
    "print(X_train.shape,X_test.shape) "
   ]
  },
  {
   "cell_type": "markdown",
   "metadata": {},
   "source": [
    "Recuparando os registros de cada um dos assuntos para poder usar para duplicacao:"
   ]
  },
  {
   "cell_type": "code",
   "execution_count": 133,
   "metadata": {},
   "outputs": [],
   "source": [
    "documentos_2086 = X_train[X_train['in_2086']==1]\n",
    "documentos_2546 = X_train[X_train['in_2546']==1]\n",
    "documentos_2594 = X_train[X_train['in_2594']==1]\n"
   ]
  },
  {
   "cell_type": "code",
   "execution_count": 210,
   "metadata": {},
   "outputs": [
    {
     "name": "stdout",
     "output_type": "stream",
     "text": [
      "Documentos 2086:  (896, 11)\n",
      "Documentos 2546:  (406, 11)\n",
      "Documentos 2594:  (107, 11)\n"
     ]
    }
   ],
   "source": [
    "print('Documentos 2086: ' , documentos_2086.shape)\n",
    "print('Documentos 2546: ' , documentos_2546.shape)\n",
    "print('Documentos 2594: ' , documentos_2594.shape)"
   ]
  },
  {
   "cell_type": "code",
   "execution_count": 212,
   "metadata": {},
   "outputs": [],
   "source": [
    "Xs = df.drop(['in_2086', 'in_2546', 'in_2594'], axis=1)\n",
    "Ys = df[['in_2086', 'in_2546', 'in_2594']]"
   ]
  },
  {
   "cell_type": "code",
   "execution_count": 213,
   "metadata": {},
   "outputs": [],
   "source": [
    "X_train_mc, X_test_mc, y_train_mc, y_test_mc = train_test_split( Xs, Ys, test_size=0.3, random_state=42, stratify=Ys)"
   ]
  },
  {
   "cell_type": "code",
   "execution_count": 221,
   "metadata": {},
   "outputs": [
    {
     "data": {
      "text/plain": [
       "array([[<matplotlib.axes._subplots.AxesSubplot object at 0x7fbb9cc10ef0>,\n",
       "        <matplotlib.axes._subplots.AxesSubplot object at 0x7fbb9c4cf358>],\n",
       "       [<matplotlib.axes._subplots.AxesSubplot object at 0x7fbb9c4ee8d0>,\n",
       "        <matplotlib.axes._subplots.AxesSubplot object at 0x7fbb9c492e80>]],\n",
       "      dtype=object)"
      ]
     },
     "execution_count": 221,
     "metadata": {},
     "output_type": "execute_result"
    },
    {
     "data": {
      "image/png": "[encoded data removed]",
      "text/plain": [
       "<Figure size 432x288 with 4 Axes>"
      ]
     },
     "metadata": {
      "needs_background": "light"
     },
     "output_type": "display_data"
    }
   ],
   "source": [
    "pd.DataFrame(y_train_mc).hist()"
   ]
  },
  {
   "cell_type": "code",
   "execution_count": 223,
   "metadata": {},
   "outputs": [
    {
     "ename": "IndexError",
     "evalue": "only integers, slices (`:`), ellipsis (`...`), numpy.newaxis (`None`) and integer or boolean arrays are valid indices",
     "output_type": "error",
     "traceback": [
      "\u001b[0;31m---------------------------------------------------------------------------\u001b[0m",
      "\u001b[0;31mIndexError\u001b[0m                                Traceback (most recent call last)",
      "\u001b[0;32m<ipython-input-223-186c2e35fc68>\u001b[0m in \u001b[0;36m<module>\u001b[0;34m\u001b[0m\n\u001b[0;32m----> 1\u001b[0;31m \u001b[0mX_train_mc_resampled\u001b[0m\u001b[0;34m,\u001b[0m \u001b[0my_train_mc_resampled\u001b[0m \u001b[0;34m=\u001b[0m \u001b[0mros\u001b[0m\u001b[0;34m.\u001b[0m\u001b[0mfit_resample\u001b[0m\u001b[0;34m(\u001b[0m\u001b[0mX_train_mc_resampled\u001b[0m\u001b[0;34m,\u001b[0m \u001b[0my_train_mc_resampled\u001b[0m\u001b[0;34m[\u001b[0m\u001b[0;34m'in_2546'\u001b[0m\u001b[0;34m]\u001b[0m\u001b[0;34m)\u001b[0m\u001b[0;34m\u001b[0m\u001b[0;34m\u001b[0m\u001b[0m\n\u001b[0m\u001b[1;32m      2\u001b[0m \u001b[0my_train_mc_resampled\u001b[0m\u001b[0;34m=\u001b[0m\u001b[0my_train_mc\u001b[0m\u001b[0;34m.\u001b[0m\u001b[0mloc\u001b[0m\u001b[0;34m[\u001b[0m\u001b[0mros\u001b[0m\u001b[0;34m.\u001b[0m\u001b[0msample_indices_\u001b[0m\u001b[0;34m]\u001b[0m\u001b[0;34m\u001b[0m\u001b[0;34m\u001b[0m\u001b[0m\n",
      "\u001b[0;31mIndexError\u001b[0m: only integers, slices (`:`), ellipsis (`...`), numpy.newaxis (`None`) and integer or boolean arrays are valid indices"
     ]
    }
   ],
   "source": [
    "ros =RandomOverSampler()\n",
    "X_train_mc_resampled, y_train_mc_resampled = ros.fit_resample(X_train_mc, y_train_mc['in_2086'])\n",
    "y_train_mc_resampled=y_train_mc.loc[ros.sample_indices_]\n",
    "X_train_mc_resampled, y_train_mc_resampled = ros.fit_resample(X_train_mc_resampled, y_train_mc_resampled['in_2546'])\n",
    "y_train_mc_resampled=y_train_mc.loc[ros.sample_indices_]"
   ]
  },
  {
   "cell_type": "code",
   "execution_count": 225,
   "metadata": {},
   "outputs": [
    {
     "name": "stderr",
     "output_type": "stream",
     "text": [
      "/opt/anaconda3/envs/envppca/lib/python3.7/site-packages/ipykernel_launcher.py:1: FutureWarning: \n",
      "Passing list-likes to .loc or [] with any missing label will raise\n",
      "KeyError in the future, you can use .reindex() as an alternative.\n",
      "\n",
      "See the documentation here:\n",
      "https://pandas.pydata.org/pandas-docs/stable/user_guide/indexing.html#deprecate-loc-reindex-listlike\n",
      "  \"\"\"Entry point for launching an IPython kernel.\n"
     ]
    },
    {
     "data": {
      "text/html": [
       "<div>\n",
       "<style scoped>\n",
       "    .dataframe tbody tr th:only-of-type {\n",
       "        vertical-align: middle;\n",
       "    }\n",
       "\n",
       "    .dataframe tbody tr th {\n",
       "        vertical-align: top;\n",
       "    }\n",
       "\n",
       "    .dataframe thead th {\n",
       "        text-align: right;\n",
       "    }\n",
       "</style>\n",
       "<table border=\"1\" class=\"dataframe\">\n",
       "  <thead>\n",
       "    <tr style=\"text-align: right;\">\n",
       "      <th></th>\n",
       "      <th>in_2086</th>\n",
       "      <th>in_2546</th>\n",
       "      <th>in_2594</th>\n",
       "    </tr>\n",
       "  </thead>\n",
       "  <tbody>\n",
       "    <tr>\n",
       "      <th>0</th>\n",
       "      <td>NaN</td>\n",
       "      <td>NaN</td>\n",
       "      <td>NaN</td>\n",
       "    </tr>\n",
       "    <tr>\n",
       "      <th>1</th>\n",
       "      <td>1.0</td>\n",
       "      <td>0.0</td>\n",
       "      <td>0.0</td>\n",
       "    </tr>\n",
       "    <tr>\n",
       "      <th>2</th>\n",
       "      <td>0.0</td>\n",
       "      <td>1.0</td>\n",
       "      <td>0.0</td>\n",
       "    </tr>\n",
       "    <tr>\n",
       "      <th>3</th>\n",
       "      <td>NaN</td>\n",
       "      <td>NaN</td>\n",
       "      <td>NaN</td>\n",
       "    </tr>\n",
       "    <tr>\n",
       "      <th>4</th>\n",
       "      <td>1.0</td>\n",
       "      <td>0.0</td>\n",
       "      <td>0.0</td>\n",
       "    </tr>\n",
       "    <tr>\n",
       "      <th>5</th>\n",
       "      <td>NaN</td>\n",
       "      <td>NaN</td>\n",
       "      <td>NaN</td>\n",
       "    </tr>\n",
       "    <tr>\n",
       "      <th>6</th>\n",
       "      <td>NaN</td>\n",
       "      <td>NaN</td>\n",
       "      <td>NaN</td>\n",
       "    </tr>\n",
       "    <tr>\n",
       "      <th>7</th>\n",
       "      <td>0.0</td>\n",
       "      <td>1.0</td>\n",
       "      <td>0.0</td>\n",
       "    </tr>\n",
       "    <tr>\n",
       "      <th>8</th>\n",
       "      <td>NaN</td>\n",
       "      <td>NaN</td>\n",
       "      <td>NaN</td>\n",
       "    </tr>\n",
       "    <tr>\n",
       "      <th>9</th>\n",
       "      <td>0.0</td>\n",
       "      <td>1.0</td>\n",
       "      <td>0.0</td>\n",
       "    </tr>\n",
       "    <tr>\n",
       "      <th>10</th>\n",
       "      <td>1.0</td>\n",
       "      <td>0.0</td>\n",
       "      <td>0.0</td>\n",
       "    </tr>\n",
       "    <tr>\n",
       "      <th>11</th>\n",
       "      <td>NaN</td>\n",
       "      <td>NaN</td>\n",
       "      <td>NaN</td>\n",
       "    </tr>\n",
       "    <tr>\n",
       "      <th>12</th>\n",
       "      <td>0.0</td>\n",
       "      <td>1.0</td>\n",
       "      <td>0.0</td>\n",
       "    </tr>\n",
       "    <tr>\n",
       "      <th>13</th>\n",
       "      <td>0.0</td>\n",
       "      <td>1.0</td>\n",
       "      <td>0.0</td>\n",
       "    </tr>\n",
       "    <tr>\n",
       "      <th>14</th>\n",
       "      <td>1.0</td>\n",
       "      <td>0.0</td>\n",
       "      <td>0.0</td>\n",
       "    </tr>\n",
       "    <tr>\n",
       "      <th>15</th>\n",
       "      <td>0.0</td>\n",
       "      <td>1.0</td>\n",
       "      <td>0.0</td>\n",
       "    </tr>\n",
       "    <tr>\n",
       "      <th>16</th>\n",
       "      <td>NaN</td>\n",
       "      <td>NaN</td>\n",
       "      <td>NaN</td>\n",
       "    </tr>\n",
       "    <tr>\n",
       "      <th>17</th>\n",
       "      <td>NaN</td>\n",
       "      <td>NaN</td>\n",
       "      <td>NaN</td>\n",
       "    </tr>\n",
       "    <tr>\n",
       "      <th>18</th>\n",
       "      <td>1.0</td>\n",
       "      <td>0.0</td>\n",
       "      <td>0.0</td>\n",
       "    </tr>\n",
       "    <tr>\n",
       "      <th>19</th>\n",
       "      <td>0.0</td>\n",
       "      <td>0.0</td>\n",
       "      <td>1.0</td>\n",
       "    </tr>\n",
       "    <tr>\n",
       "      <th>20</th>\n",
       "      <td>NaN</td>\n",
       "      <td>NaN</td>\n",
       "      <td>NaN</td>\n",
       "    </tr>\n",
       "    <tr>\n",
       "      <th>21</th>\n",
       "      <td>1.0</td>\n",
       "      <td>0.0</td>\n",
       "      <td>0.0</td>\n",
       "    </tr>\n",
       "    <tr>\n",
       "      <th>22</th>\n",
       "      <td>0.0</td>\n",
       "      <td>1.0</td>\n",
       "      <td>0.0</td>\n",
       "    </tr>\n",
       "    <tr>\n",
       "      <th>23</th>\n",
       "      <td>NaN</td>\n",
       "      <td>NaN</td>\n",
       "      <td>NaN</td>\n",
       "    </tr>\n",
       "    <tr>\n",
       "      <th>24</th>\n",
       "      <td>NaN</td>\n",
       "      <td>NaN</td>\n",
       "      <td>NaN</td>\n",
       "    </tr>\n",
       "    <tr>\n",
       "      <th>25</th>\n",
       "      <td>0.0</td>\n",
       "      <td>1.0</td>\n",
       "      <td>0.0</td>\n",
       "    </tr>\n",
       "    <tr>\n",
       "      <th>26</th>\n",
       "      <td>1.0</td>\n",
       "      <td>0.0</td>\n",
       "      <td>0.0</td>\n",
       "    </tr>\n",
       "    <tr>\n",
       "      <th>27</th>\n",
       "      <td>0.0</td>\n",
       "      <td>1.0</td>\n",
       "      <td>0.0</td>\n",
       "    </tr>\n",
       "    <tr>\n",
       "      <th>28</th>\n",
       "      <td>1.0</td>\n",
       "      <td>0.0</td>\n",
       "      <td>0.0</td>\n",
       "    </tr>\n",
       "    <tr>\n",
       "      <th>29</th>\n",
       "      <td>1.0</td>\n",
       "      <td>0.0</td>\n",
       "      <td>0.0</td>\n",
       "    </tr>\n",
       "    <tr>\n",
       "      <th>...</th>\n",
       "      <td>...</td>\n",
       "      <td>...</td>\n",
       "      <td>...</td>\n",
       "    </tr>\n",
       "    <tr>\n",
       "      <th>646</th>\n",
       "      <td>1.0</td>\n",
       "      <td>0.0</td>\n",
       "      <td>0.0</td>\n",
       "    </tr>\n",
       "    <tr>\n",
       "      <th>1013</th>\n",
       "      <td>NaN</td>\n",
       "      <td>NaN</td>\n",
       "      <td>NaN</td>\n",
       "    </tr>\n",
       "    <tr>\n",
       "      <th>38</th>\n",
       "      <td>NaN</td>\n",
       "      <td>NaN</td>\n",
       "      <td>NaN</td>\n",
       "    </tr>\n",
       "    <tr>\n",
       "      <th>41</th>\n",
       "      <td>0.0</td>\n",
       "      <td>1.0</td>\n",
       "      <td>0.0</td>\n",
       "    </tr>\n",
       "    <tr>\n",
       "      <th>217</th>\n",
       "      <td>NaN</td>\n",
       "      <td>NaN</td>\n",
       "      <td>NaN</td>\n",
       "    </tr>\n",
       "    <tr>\n",
       "      <th>56</th>\n",
       "      <td>0.0</td>\n",
       "      <td>1.0</td>\n",
       "      <td>0.0</td>\n",
       "    </tr>\n",
       "    <tr>\n",
       "      <th>513</th>\n",
       "      <td>1.0</td>\n",
       "      <td>0.0</td>\n",
       "      <td>0.0</td>\n",
       "    </tr>\n",
       "    <tr>\n",
       "      <th>408</th>\n",
       "      <td>1.0</td>\n",
       "      <td>0.0</td>\n",
       "      <td>0.0</td>\n",
       "    </tr>\n",
       "    <tr>\n",
       "      <th>297</th>\n",
       "      <td>0.0</td>\n",
       "      <td>1.0</td>\n",
       "      <td>0.0</td>\n",
       "    </tr>\n",
       "    <tr>\n",
       "      <th>92</th>\n",
       "      <td>1.0</td>\n",
       "      <td>0.0</td>\n",
       "      <td>0.0</td>\n",
       "    </tr>\n",
       "    <tr>\n",
       "      <th>768</th>\n",
       "      <td>NaN</td>\n",
       "      <td>NaN</td>\n",
       "      <td>NaN</td>\n",
       "    </tr>\n",
       "    <tr>\n",
       "      <th>1048</th>\n",
       "      <td>NaN</td>\n",
       "      <td>NaN</td>\n",
       "      <td>NaN</td>\n",
       "    </tr>\n",
       "    <tr>\n",
       "      <th>1319</th>\n",
       "      <td>1.0</td>\n",
       "      <td>0.0</td>\n",
       "      <td>0.0</td>\n",
       "    </tr>\n",
       "    <tr>\n",
       "      <th>387</th>\n",
       "      <td>1.0</td>\n",
       "      <td>0.0</td>\n",
       "      <td>0.0</td>\n",
       "    </tr>\n",
       "    <tr>\n",
       "      <th>1073</th>\n",
       "      <td>0.0</td>\n",
       "      <td>1.0</td>\n",
       "      <td>0.0</td>\n",
       "    </tr>\n",
       "    <tr>\n",
       "      <th>1349</th>\n",
       "      <td>1.0</td>\n",
       "      <td>0.0</td>\n",
       "      <td>0.0</td>\n",
       "    </tr>\n",
       "    <tr>\n",
       "      <th>473</th>\n",
       "      <td>1.0</td>\n",
       "      <td>0.0</td>\n",
       "      <td>0.0</td>\n",
       "    </tr>\n",
       "    <tr>\n",
       "      <th>694</th>\n",
       "      <td>NaN</td>\n",
       "      <td>NaN</td>\n",
       "      <td>NaN</td>\n",
       "    </tr>\n",
       "    <tr>\n",
       "      <th>435</th>\n",
       "      <td>NaN</td>\n",
       "      <td>NaN</td>\n",
       "      <td>NaN</td>\n",
       "    </tr>\n",
       "    <tr>\n",
       "      <th>906</th>\n",
       "      <td>0.0</td>\n",
       "      <td>1.0</td>\n",
       "      <td>0.0</td>\n",
       "    </tr>\n",
       "    <tr>\n",
       "      <th>465</th>\n",
       "      <td>NaN</td>\n",
       "      <td>NaN</td>\n",
       "      <td>NaN</td>\n",
       "    </tr>\n",
       "    <tr>\n",
       "      <th>1207</th>\n",
       "      <td>1.0</td>\n",
       "      <td>0.0</td>\n",
       "      <td>0.0</td>\n",
       "    </tr>\n",
       "    <tr>\n",
       "      <th>318</th>\n",
       "      <td>1.0</td>\n",
       "      <td>0.0</td>\n",
       "      <td>0.0</td>\n",
       "    </tr>\n",
       "    <tr>\n",
       "      <th>593</th>\n",
       "      <td>NaN</td>\n",
       "      <td>NaN</td>\n",
       "      <td>NaN</td>\n",
       "    </tr>\n",
       "    <tr>\n",
       "      <th>188</th>\n",
       "      <td>NaN</td>\n",
       "      <td>NaN</td>\n",
       "      <td>NaN</td>\n",
       "    </tr>\n",
       "    <tr>\n",
       "      <th>712</th>\n",
       "      <td>1.0</td>\n",
       "      <td>0.0</td>\n",
       "      <td>0.0</td>\n",
       "    </tr>\n",
       "    <tr>\n",
       "      <th>1317</th>\n",
       "      <td>NaN</td>\n",
       "      <td>NaN</td>\n",
       "      <td>NaN</td>\n",
       "    </tr>\n",
       "    <tr>\n",
       "      <th>183</th>\n",
       "      <td>1.0</td>\n",
       "      <td>0.0</td>\n",
       "      <td>0.0</td>\n",
       "    </tr>\n",
       "    <tr>\n",
       "      <th>296</th>\n",
       "      <td>1.0</td>\n",
       "      <td>0.0</td>\n",
       "      <td>0.0</td>\n",
       "    </tr>\n",
       "    <tr>\n",
       "      <th>1045</th>\n",
       "      <td>NaN</td>\n",
       "      <td>NaN</td>\n",
       "      <td>NaN</td>\n",
       "    </tr>\n",
       "  </tbody>\n",
       "</table>\n",
       "<p>1764 rows × 3 columns</p>\n",
       "</div>"
      ],
      "text/plain": [
       "      in_2086  in_2546  in_2594\n",
       "0         NaN      NaN      NaN\n",
       "1         1.0      0.0      0.0\n",
       "2         0.0      1.0      0.0\n",
       "3         NaN      NaN      NaN\n",
       "4         1.0      0.0      0.0\n",
       "...       ...      ...      ...\n",
       "712       1.0      0.0      0.0\n",
       "1317      NaN      NaN      NaN\n",
       "183       1.0      0.0      0.0\n",
       "296       1.0      0.0      0.0\n",
       "1045      NaN      NaN      NaN\n",
       "\n",
       "[1764 rows x 3 columns]"
      ]
     },
     "execution_count": 225,
     "metadata": {},
     "output_type": "execute_result"
    }
   ],
   "source": [
    "y_train_mc.loc[ros.sample_indices_]"
   ]
  },
  {
   "cell_type": "code",
   "execution_count": 204,
   "metadata": {},
   "outputs": [
    {
     "name": "stderr",
     "output_type": "stream",
     "text": [
      "/opt/anaconda3/envs/envppca/lib/python3.7/site-packages/ipykernel_launcher.py:1: FutureWarning: \n",
      "Passing list-likes to .loc or [] with any missing label will raise\n",
      "KeyError in the future, you can use .reindex() as an alternative.\n",
      "\n",
      "See the documentation here:\n",
      "https://pandas.pydata.org/pandas-docs/stable/user_guide/indexing.html#deprecate-loc-reindex-listlike\n",
      "  \"\"\"Entry point for launching an IPython kernel.\n"
     ]
    },
    {
     "data": {
      "text/plain": [
       "(1764, 3)"
      ]
     },
     "execution_count": 204,
     "metadata": {},
     "output_type": "execute_result"
    }
   ],
   "source": [
    "y_train_mc_resampled=y_train_mc.loc[ros.sample_indices_]\n",
    "y_train_mc_resampled.shape"
   ]
  },
  {
   "cell_type": "code",
   "execution_count": 207,
   "metadata": {},
   "outputs": [],
   "source": [
    "np.get_printoptions()\n",
    "np.set_printoptions(threshold=1000)\n"
   ]
  },
  {
   "cell_type": "code",
   "execution_count": 209,
   "metadata": {},
   "outputs": [
    {
     "name": "stdout",
     "output_type": "stream",
     "text": [
      "Documentos 2086:  (796, 3)\n",
      "Documentos 2546:  (362, 3)\n",
      "Documentos 2594:  (99, 3)\n"
     ]
    }
   ],
   "source": [
    "ys_2086 = y_train_mc_resampled[y_train_mc_resampled['in_2086']==1]\n",
    "ys_2546 = y_train_mc_resampled[y_train_mc_resampled['in_2546']==1]\n",
    "ys_2594 = y_train_mc_resampled[y_train_mc_resampled['in_2594']==1]\n",
    "print('Documentos 2086: ' , ys_2086.shape)\n",
    "print('Documentos 2546: ' , ys_2546.shape)\n",
    "print('Documentos 2594: ' , ys_2594.shape)"
   ]
  },
  {
   "cell_type": "code",
   "execution_count": 171,
   "metadata": {},
   "outputs": [
    {
     "ename": "ValueError",
     "evalue": "Input contains NaN, infinity or a value too large for dtype('float64').",
     "output_type": "error",
     "traceback": [
      "\u001b[0;31m---------------------------------------------------------------------------\u001b[0m",
      "\u001b[0;31mValueError\u001b[0m                                Traceback (most recent call last)",
      "\u001b[0;32m<ipython-input-171-5db9e4b80373>\u001b[0m in \u001b[0;36m<module>\u001b[0;34m\u001b[0m\n\u001b[1;32m      1\u001b[0m \u001b[0mros2\u001b[0m \u001b[0;34m=\u001b[0m\u001b[0mRandomOverSampler\u001b[0m\u001b[0;34m(\u001b[0m\u001b[0mrandom_state\u001b[0m\u001b[0;34m=\u001b[0m\u001b[0;36m42\u001b[0m\u001b[0;34m)\u001b[0m\u001b[0;34m\u001b[0m\u001b[0;34m\u001b[0m\u001b[0m\n\u001b[0;32m----> 2\u001b[0;31m \u001b[0mX_train_mc_resampled\u001b[0m\u001b[0;34m,\u001b[0m \u001b[0my_train_mc_resampled\u001b[0m \u001b[0;34m=\u001b[0m \u001b[0mros2\u001b[0m\u001b[0;34m.\u001b[0m\u001b[0mfit_resample\u001b[0m\u001b[0;34m(\u001b[0m\u001b[0mX_train_mc_resampled\u001b[0m\u001b[0;34m,\u001b[0m \u001b[0my_train_mc_resampled\u001b[0m\u001b[0;34m[\u001b[0m\u001b[0;34m'in_2546'\u001b[0m\u001b[0;34m]\u001b[0m\u001b[0;34m)\u001b[0m\u001b[0;34m\u001b[0m\u001b[0;34m\u001b[0m\u001b[0m\n\u001b[0m\u001b[1;32m      3\u001b[0m \u001b[0mX_train_mc_resampled\u001b[0m\u001b[0;34m.\u001b[0m\u001b[0mshape\u001b[0m\u001b[0;34m\u001b[0m\u001b[0;34m\u001b[0m\u001b[0m\n",
      "\u001b[0;32m/opt/anaconda3/envs/envppca/lib/python3.7/site-packages/imblearn/base.py\u001b[0m in \u001b[0;36mfit_resample\u001b[0;34m(self, X, y)\u001b[0m\n\u001b[1;32m     76\u001b[0m         \u001b[0mself\u001b[0m\u001b[0;34m.\u001b[0m\u001b[0m_deprecate_ratio\u001b[0m\u001b[0;34m(\u001b[0m\u001b[0;34m)\u001b[0m\u001b[0;34m\u001b[0m\u001b[0;34m\u001b[0m\u001b[0m\n\u001b[1;32m     77\u001b[0m \u001b[0;34m\u001b[0m\u001b[0m\n\u001b[0;32m---> 78\u001b[0;31m         \u001b[0mcheck_classification_targets\u001b[0m\u001b[0;34m(\u001b[0m\u001b[0my\u001b[0m\u001b[0;34m)\u001b[0m\u001b[0;34m\u001b[0m\u001b[0;34m\u001b[0m\u001b[0m\n\u001b[0m\u001b[1;32m     79\u001b[0m         \u001b[0mX\u001b[0m\u001b[0;34m,\u001b[0m \u001b[0my\u001b[0m\u001b[0;34m,\u001b[0m \u001b[0mbinarize_y\u001b[0m \u001b[0;34m=\u001b[0m \u001b[0mself\u001b[0m\u001b[0;34m.\u001b[0m\u001b[0m_check_X_y\u001b[0m\u001b[0;34m(\u001b[0m\u001b[0mX\u001b[0m\u001b[0;34m,\u001b[0m \u001b[0my\u001b[0m\u001b[0;34m)\u001b[0m\u001b[0;34m\u001b[0m\u001b[0;34m\u001b[0m\u001b[0m\n\u001b[1;32m     80\u001b[0m \u001b[0;34m\u001b[0m\u001b[0m\n",
      "\u001b[0;32m/opt/anaconda3/envs/envppca/lib/python3.7/site-packages/sklearn/utils/multiclass.py\u001b[0m in \u001b[0;36mcheck_classification_targets\u001b[0;34m(y)\u001b[0m\n\u001b[1;32m    164\u001b[0m     \u001b[0my\u001b[0m \u001b[0;34m:\u001b[0m \u001b[0marray\u001b[0m\u001b[0;34m-\u001b[0m\u001b[0mlike\u001b[0m\u001b[0;34m\u001b[0m\u001b[0;34m\u001b[0m\u001b[0m\n\u001b[1;32m    165\u001b[0m     \"\"\"\n\u001b[0;32m--> 166\u001b[0;31m     \u001b[0my_type\u001b[0m \u001b[0;34m=\u001b[0m \u001b[0mtype_of_target\u001b[0m\u001b[0;34m(\u001b[0m\u001b[0my\u001b[0m\u001b[0;34m)\u001b[0m\u001b[0;34m\u001b[0m\u001b[0;34m\u001b[0m\u001b[0m\n\u001b[0m\u001b[1;32m    167\u001b[0m     if y_type not in ['binary', 'multiclass', 'multiclass-multioutput',\n\u001b[1;32m    168\u001b[0m                       'multilabel-indicator', 'multilabel-sequences']:\n",
      "\u001b[0;32m/opt/anaconda3/envs/envppca/lib/python3.7/site-packages/sklearn/utils/multiclass.py\u001b[0m in \u001b[0;36mtype_of_target\u001b[0;34m(y)\u001b[0m\n\u001b[1;32m    282\u001b[0m     \u001b[0;32mif\u001b[0m \u001b[0my\u001b[0m\u001b[0;34m.\u001b[0m\u001b[0mdtype\u001b[0m\u001b[0;34m.\u001b[0m\u001b[0mkind\u001b[0m \u001b[0;34m==\u001b[0m \u001b[0;34m'f'\u001b[0m \u001b[0;32mand\u001b[0m \u001b[0mnp\u001b[0m\u001b[0;34m.\u001b[0m\u001b[0many\u001b[0m\u001b[0;34m(\u001b[0m\u001b[0my\u001b[0m \u001b[0;34m!=\u001b[0m \u001b[0my\u001b[0m\u001b[0;34m.\u001b[0m\u001b[0mastype\u001b[0m\u001b[0;34m(\u001b[0m\u001b[0mint\u001b[0m\u001b[0;34m)\u001b[0m\u001b[0;34m)\u001b[0m\u001b[0;34m:\u001b[0m\u001b[0;34m\u001b[0m\u001b[0;34m\u001b[0m\u001b[0m\n\u001b[1;32m    283\u001b[0m         \u001b[0;31m# [.1, .2, 3] or [[.1, .2, 3]] or [[1., .2]] and not [1., 2., 3.]\u001b[0m\u001b[0;34m\u001b[0m\u001b[0;34m\u001b[0m\u001b[0;34m\u001b[0m\u001b[0m\n\u001b[0;32m--> 284\u001b[0;31m         \u001b[0m_assert_all_finite\u001b[0m\u001b[0;34m(\u001b[0m\u001b[0my\u001b[0m\u001b[0;34m)\u001b[0m\u001b[0;34m\u001b[0m\u001b[0;34m\u001b[0m\u001b[0m\n\u001b[0m\u001b[1;32m    285\u001b[0m         \u001b[0;32mreturn\u001b[0m \u001b[0;34m'continuous'\u001b[0m \u001b[0;34m+\u001b[0m \u001b[0msuffix\u001b[0m\u001b[0;34m\u001b[0m\u001b[0;34m\u001b[0m\u001b[0m\n\u001b[1;32m    286\u001b[0m \u001b[0;34m\u001b[0m\u001b[0m\n",
      "\u001b[0;32m/opt/anaconda3/envs/envppca/lib/python3.7/site-packages/sklearn/utils/validation.py\u001b[0m in \u001b[0;36m_assert_all_finite\u001b[0;34m(X, allow_nan)\u001b[0m\n\u001b[1;32m     54\u001b[0m                 not allow_nan and not np.isfinite(X).all()):\n\u001b[1;32m     55\u001b[0m             \u001b[0mtype_err\u001b[0m \u001b[0;34m=\u001b[0m \u001b[0;34m'infinity'\u001b[0m \u001b[0;32mif\u001b[0m \u001b[0mallow_nan\u001b[0m \u001b[0;32melse\u001b[0m \u001b[0;34m'NaN, infinity'\u001b[0m\u001b[0;34m\u001b[0m\u001b[0;34m\u001b[0m\u001b[0m\n\u001b[0;32m---> 56\u001b[0;31m             \u001b[0;32mraise\u001b[0m \u001b[0mValueError\u001b[0m\u001b[0;34m(\u001b[0m\u001b[0mmsg_err\u001b[0m\u001b[0;34m.\u001b[0m\u001b[0mformat\u001b[0m\u001b[0;34m(\u001b[0m\u001b[0mtype_err\u001b[0m\u001b[0;34m,\u001b[0m \u001b[0mX\u001b[0m\u001b[0;34m.\u001b[0m\u001b[0mdtype\u001b[0m\u001b[0;34m)\u001b[0m\u001b[0;34m)\u001b[0m\u001b[0;34m\u001b[0m\u001b[0;34m\u001b[0m\u001b[0m\n\u001b[0m\u001b[1;32m     57\u001b[0m     \u001b[0;31m# for object dtype data, we only check for NaNs (GH-13254)\u001b[0m\u001b[0;34m\u001b[0m\u001b[0;34m\u001b[0m\u001b[0;34m\u001b[0m\u001b[0m\n\u001b[1;32m     58\u001b[0m     \u001b[0;32melif\u001b[0m \u001b[0mX\u001b[0m\u001b[0;34m.\u001b[0m\u001b[0mdtype\u001b[0m \u001b[0;34m==\u001b[0m \u001b[0mnp\u001b[0m\u001b[0;34m.\u001b[0m\u001b[0mdtype\u001b[0m\u001b[0;34m(\u001b[0m\u001b[0;34m'object'\u001b[0m\u001b[0;34m)\u001b[0m \u001b[0;32mand\u001b[0m \u001b[0;32mnot\u001b[0m \u001b[0mallow_nan\u001b[0m\u001b[0;34m:\u001b[0m\u001b[0;34m\u001b[0m\u001b[0;34m\u001b[0m\u001b[0m\n",
      "\u001b[0;31mValueError\u001b[0m: Input contains NaN, infinity or a value too large for dtype('float64')."
     ]
    }
   ],
   "source": [
    "ros =RandomOverSampler(random_state=42)\n",
    "X_train_mc_resampled, y_train_mc_resampled = ros.fit_resample(X_train_mc_resampled, y_train_mc_resampled['in_2546'])\n",
    "X_train_mc_resampled.shape"
   ]
  },
  {
   "cell_type": "code",
   "execution_count": null,
   "metadata": {},
   "outputs": [],
   "source": [
    "y_train_mc_resampled=y_train_mc_resampled.loc[ros.sample_indices_]\n",
    "y_train_mc_resampled.shape"
   ]
  },
  {
   "cell_type": "code",
   "execution_count": 145,
   "metadata": {},
   "outputs": [
    {
     "data": {
      "text/plain": [
       "(2580, 8)"
      ]
     },
     "execution_count": 145,
     "metadata": {},
     "output_type": "execute_result"
    }
   ],
   "source": [
    "ros =RandomOverSampler(random_state=42)\n",
    "X_train_mc_resampled, y_train_mc_resampled = ros.fit_resample(X_train_mc, y_train_mc['in_2594'])\n",
    "X_train_mc_resampled.shape"
   ]
  },
  {
   "cell_type": "code",
   "execution_count": 146,
   "metadata": {},
   "outputs": [
    {
     "data": {
      "text/plain": [
       "array([[<matplotlib.axes._subplots.AxesSubplot object at 0x7fbbae091ba8>,\n",
       "        <matplotlib.axes._subplots.AxesSubplot object at 0x7fbbac10d438>],\n",
       "       [<matplotlib.axes._subplots.AxesSubplot object at 0x7fbbac0c6470>,\n",
       "        <matplotlib.axes._subplots.AxesSubplot object at 0x7fbbac081dd8>]],\n",
       "      dtype=object)"
      ]
     },
     "execution_count": 146,
     "metadata": {},
     "output_type": "execute_result"
    },
    {
     "data": {
      "image/png": "[encoded data removed]",
      "text/plain": [
       "<Figure size 432x288 with 4 Axes>"
      ]
     },
     "metadata": {
      "needs_background": "light"
     },
     "output_type": "display_data"
    }
   ],
   "source": [
    "pd.DataFrame(y_train_mc).hist()"
   ]
  },
  {
   "cell_type": "markdown",
   "metadata": {},
   "source": [
    "Fazendo o balanceamentodos dados na mão porque nao consegui manipular a matriz esparsa como teria sido necessario com o ros"
   ]
  },
  {
   "cell_type": "code",
   "execution_count": null,
   "metadata": {},
   "outputs": [],
   "source": []
  },
  {
   "cell_type": "code",
   "execution_count": 28,
   "metadata": {},
   "outputs": [
    {
     "data": {
      "text/plain": [
       "(766, 11)"
      ]
     },
     "execution_count": 28,
     "metadata": {},
     "output_type": "execute_result"
    }
   ],
   "source": [
    "X_train_br_balanced = []\n",
    "X_train_br_balanced = train_br.append(double_2546)\n",
    "X_train_br_balanced = X_train_br_balanced.append(double_2594)\n",
    "X_train_br_balanced = X_train_br_balanced.append(double_2594)\n",
    "X_train_br_balanced = X_train_br_balanced.append(double_2594)\n",
    "X_train_br_balanced = X_train_br_balanced.append(double_2594)\n",
    "X_train_br_balanced = X_train_br_balanced.append(double_2594)\n",
    "X_train_br_balanced = X_train_br_balanced.append(double_2594)\n",
    "X_train_br_balanced.shape"
   ]
  },
  {
   "cell_type": "code",
   "execution_count": 29,
   "metadata": {},
   "outputs": [],
   "source": [
    "Y_train_br_balanced = X_train_br_balanced.filter(['in_2594', 'in_2546','in_2086'])\n",
    "X_train_br_tfidf_balanced = X.transform(X_train_br_balanced['texto_processado'])\n",
    "Y_test_br = test_br.filter(['in_2594', 'in_2546','in_2086'])\n",
    "X_test_br = X.transform(test_br['texto_processado'])"
   ]
  },
  {
   "cell_type": "code",
   "execution_count": 30,
   "metadata": {},
   "outputs": [
    {
     "data": {
      "text/plain": [
       "(766, 32246)"
      ]
     },
     "execution_count": 30,
     "metadata": {},
     "output_type": "execute_result"
    }
   ],
   "source": [
    "X_train_br_tfidf_balanced.shape"
   ]
  },
  {
   "cell_type": "markdown",
   "metadata": {},
   "source": [
    "Verificando o balanceamento:"
   ]
  },
  {
   "cell_type": "code",
   "execution_count": 31,
   "metadata": {},
   "outputs": [
    {
     "data": {
      "text/plain": [
       "array([[<matplotlib.axes._subplots.AxesSubplot object at 0x7fe1262507f0>,\n",
       "        <matplotlib.axes._subplots.AxesSubplot object at 0x7fe12621b048>],\n",
       "       [<matplotlib.axes._subplots.AxesSubplot object at 0x7fe1261df2b0>,\n",
       "        <matplotlib.axes._subplots.AxesSubplot object at 0x7fe1261a2f98>]],\n",
       "      dtype=object)"
      ]
     },
     "execution_count": 31,
     "metadata": {},
     "output_type": "execute_result"
    },
    {
     "data": {
      "image/png": "[encoded data removed]",
      "text/plain": [
       "<Figure size 432x288 with 4 Axes>"
      ]
     },
     "metadata": {
      "needs_background": "light"
     },
     "output_type": "display_data"
    }
   ],
   "source": [
    "pd.DataFrame(Y_train_br_balanced).hist()"
   ]
  },
  {
   "cell_type": "code",
   "execution_count": 34,
   "metadata": {},
   "outputs": [
    {
     "ename": "ValueError",
     "evalue": "WRITEBACKIFCOPY base is read-only",
     "output_type": "error",
     "traceback": [
      "\u001b[0;31m---------------------------------------------------------------------------\u001b[0m",
      "\u001b[0;31m_RemoteTraceback\u001b[0m                          Traceback (most recent call last)",
      "\u001b[0;31m_RemoteTraceback\u001b[0m: \n\"\"\"\nTraceback (most recent call last):\n  File \"/opt/anaconda3/envs/envppca/lib/python3.7/site-packages/joblib/externals/loky/process_executor.py\", line 418, in _process_worker\n    r = call_item()\n  File \"/opt/anaconda3/envs/envppca/lib/python3.7/site-packages/joblib/externals/loky/process_executor.py\", line 272, in __call__\n    return self.fn(*self.args, **self.kwargs)\n  File \"/opt/anaconda3/envs/envppca/lib/python3.7/site-packages/joblib/_parallel_backends.py\", line 567, in __call__\n    return self.func(*args, **kwargs)\n  File \"/opt/anaconda3/envs/envppca/lib/python3.7/site-packages/joblib/parallel.py\", line 225, in __call__\n    for func, args, kwargs in self.items]\n  File \"/opt/anaconda3/envs/envppca/lib/python3.7/site-packages/joblib/parallel.py\", line 225, in <listcomp>\n    for func, args, kwargs in self.items]\n  File \"/opt/anaconda3/envs/envppca/lib/python3.7/site-packages/sklearn/multiclass.py\", line 80, in _fit_binary\n    estimator.fit(X, y)\n  File \"/opt/anaconda3/envs/envppca/lib/python3.7/site-packages/sklearn/svm/base.py\", line 209, in fit\n    fit(X, y, sample_weight, solver_type, kernel, random_seed=seed)\n  File \"/opt/anaconda3/envs/envppca/lib/python3.7/site-packages/sklearn/svm/base.py\", line 275, in _sparse_fit\n    X.sort_indices()\n  File \"/opt/anaconda3/envs/envppca/lib/python3.7/site-packages/scipy/sparse/compressed.py\", line 1136, in sort_indices\n    self.indices, self.data)\nValueError: WRITEBACKIFCOPY base is read-only\n\"\"\"",
      "\nThe above exception was the direct cause of the following exception:\n",
      "\u001b[0;31mValueError\u001b[0m                                Traceback (most recent call last)",
      "\u001b[0;32m<ipython-input-34-87236396c287>\u001b[0m in \u001b[0;36m<module>\u001b[0;34m\u001b[0m\n\u001b[1;32m      2\u001b[0m \u001b[0mclf_ovr\u001b[0m \u001b[0;34m=\u001b[0m \u001b[0mOneVsRestClassifier\u001b[0m\u001b[0;34m(\u001b[0m\u001b[0mSVC\u001b[0m\u001b[0;34m(\u001b[0m\u001b[0mkernel\u001b[0m\u001b[0;34m=\u001b[0m\u001b[0;34m'linear'\u001b[0m\u001b[0;34m,\u001b[0m \u001b[0mprobability\u001b[0m\u001b[0;34m=\u001b[0m\u001b[0;32mTrue\u001b[0m\u001b[0;34m)\u001b[0m\u001b[0;34m,\u001b[0m \u001b[0mn_jobs\u001b[0m\u001b[0;34m=\u001b[0m\u001b[0;34m-\u001b[0m\u001b[0;36m1\u001b[0m\u001b[0;34m)\u001b[0m\u001b[0;34m\u001b[0m\u001b[0;34m\u001b[0m\u001b[0m\n\u001b[1;32m      3\u001b[0m \u001b[0mstart_time\u001b[0m \u001b[0;34m=\u001b[0m \u001b[0mtime\u001b[0m\u001b[0;34m.\u001b[0m\u001b[0mtime\u001b[0m\u001b[0;34m(\u001b[0m\u001b[0;34m)\u001b[0m\u001b[0;34m\u001b[0m\u001b[0;34m\u001b[0m\u001b[0m\n\u001b[0;32m----> 4\u001b[0;31m \u001b[0mclf_ovr\u001b[0m\u001b[0;34m.\u001b[0m\u001b[0mfit\u001b[0m\u001b[0;34m(\u001b[0m\u001b[0mX_train_br_tfidf_balanced\u001b[0m\u001b[0;34m,\u001b[0m \u001b[0mY_train_br_balanced\u001b[0m\u001b[0;34m)\u001b[0m\u001b[0;34m\u001b[0m\u001b[0;34m\u001b[0m\u001b[0m\n\u001b[0m\u001b[1;32m      5\u001b[0m \u001b[0mend_time\u001b[0m \u001b[0;34m=\u001b[0m \u001b[0mtime\u001b[0m\u001b[0;34m.\u001b[0m\u001b[0mtime\u001b[0m\u001b[0;34m(\u001b[0m\u001b[0;34m)\u001b[0m \u001b[0;34m-\u001b[0m \u001b[0mstart_time\u001b[0m\u001b[0;34m\u001b[0m\u001b[0;34m\u001b[0m\u001b[0m\n\u001b[1;32m      6\u001b[0m \u001b[0mprint\u001b[0m\u001b[0;34m(\u001b[0m\u001b[0;34m'Tempo para a criação do modelo SVC:'\u001b[0m \u001b[0;34m+\u001b[0m \u001b[0mstr\u001b[0m\u001b[0;34m(\u001b[0m\u001b[0mtimedelta\u001b[0m\u001b[0;34m(\u001b[0m\u001b[0mseconds\u001b[0m\u001b[0;34m=\u001b[0m\u001b[0mend_time\u001b[0m\u001b[0;34m)\u001b[0m\u001b[0;34m)\u001b[0m\u001b[0;34m)\u001b[0m\u001b[0;34m\u001b[0m\u001b[0;34m\u001b[0m\u001b[0m\n",
      "\u001b[0;32m/opt/anaconda3/envs/envppca/lib/python3.7/site-packages/sklearn/multiclass.py\u001b[0m in \u001b[0;36mfit\u001b[0;34m(self, X, y)\u001b[0m\n\u001b[1;32m    214\u001b[0m                 \u001b[0;34m\"not %s\"\u001b[0m \u001b[0;34m%\u001b[0m \u001b[0mself\u001b[0m\u001b[0;34m.\u001b[0m\u001b[0mlabel_binarizer_\u001b[0m\u001b[0;34m.\u001b[0m\u001b[0mclasses_\u001b[0m\u001b[0;34m[\u001b[0m\u001b[0mi\u001b[0m\u001b[0;34m]\u001b[0m\u001b[0;34m,\u001b[0m\u001b[0;34m\u001b[0m\u001b[0;34m\u001b[0m\u001b[0m\n\u001b[1;32m    215\u001b[0m                 self.label_binarizer_.classes_[i]])\n\u001b[0;32m--> 216\u001b[0;31m             for i, column in enumerate(columns))\n\u001b[0m\u001b[1;32m    217\u001b[0m \u001b[0;34m\u001b[0m\u001b[0m\n\u001b[1;32m    218\u001b[0m         \u001b[0;32mreturn\u001b[0m \u001b[0mself\u001b[0m\u001b[0;34m\u001b[0m\u001b[0;34m\u001b[0m\u001b[0m\n",
      "\u001b[0;32m/opt/anaconda3/envs/envppca/lib/python3.7/site-packages/joblib/parallel.py\u001b[0m in \u001b[0;36m__call__\u001b[0;34m(self, iterable)\u001b[0m\n\u001b[1;32m    932\u001b[0m \u001b[0;34m\u001b[0m\u001b[0m\n\u001b[1;32m    933\u001b[0m             \u001b[0;32mwith\u001b[0m \u001b[0mself\u001b[0m\u001b[0;34m.\u001b[0m\u001b[0m_backend\u001b[0m\u001b[0;34m.\u001b[0m\u001b[0mretrieval_context\u001b[0m\u001b[0;34m(\u001b[0m\u001b[0;34m)\u001b[0m\u001b[0;34m:\u001b[0m\u001b[0;34m\u001b[0m\u001b[0;34m\u001b[0m\u001b[0m\n\u001b[0;32m--> 934\u001b[0;31m                 \u001b[0mself\u001b[0m\u001b[0;34m.\u001b[0m\u001b[0mretrieve\u001b[0m\u001b[0;34m(\u001b[0m\u001b[0;34m)\u001b[0m\u001b[0;34m\u001b[0m\u001b[0;34m\u001b[0m\u001b[0m\n\u001b[0m\u001b[1;32m    935\u001b[0m             \u001b[0;31m# Make sure that we get a last message telling us we are done\u001b[0m\u001b[0;34m\u001b[0m\u001b[0;34m\u001b[0m\u001b[0;34m\u001b[0m\u001b[0m\n\u001b[1;32m    936\u001b[0m             \u001b[0melapsed_time\u001b[0m \u001b[0;34m=\u001b[0m \u001b[0mtime\u001b[0m\u001b[0;34m.\u001b[0m\u001b[0mtime\u001b[0m\u001b[0;34m(\u001b[0m\u001b[0;34m)\u001b[0m \u001b[0;34m-\u001b[0m \u001b[0mself\u001b[0m\u001b[0;34m.\u001b[0m\u001b[0m_start_time\u001b[0m\u001b[0;34m\u001b[0m\u001b[0;34m\u001b[0m\u001b[0m\n",
      "\u001b[0;32m/opt/anaconda3/envs/envppca/lib/python3.7/site-packages/joblib/parallel.py\u001b[0m in \u001b[0;36mretrieve\u001b[0;34m(self)\u001b[0m\n\u001b[1;32m    831\u001b[0m             \u001b[0;32mtry\u001b[0m\u001b[0;34m:\u001b[0m\u001b[0;34m\u001b[0m\u001b[0;34m\u001b[0m\u001b[0m\n\u001b[1;32m    832\u001b[0m                 \u001b[0;32mif\u001b[0m \u001b[0mgetattr\u001b[0m\u001b[0;34m(\u001b[0m\u001b[0mself\u001b[0m\u001b[0;34m.\u001b[0m\u001b[0m_backend\u001b[0m\u001b[0;34m,\u001b[0m \u001b[0;34m'supports_timeout'\u001b[0m\u001b[0;34m,\u001b[0m \u001b[0;32mFalse\u001b[0m\u001b[0;34m)\u001b[0m\u001b[0;34m:\u001b[0m\u001b[0;34m\u001b[0m\u001b[0;34m\u001b[0m\u001b[0m\n\u001b[0;32m--> 833\u001b[0;31m                     \u001b[0mself\u001b[0m\u001b[0;34m.\u001b[0m\u001b[0m_output\u001b[0m\u001b[0;34m.\u001b[0m\u001b[0mextend\u001b[0m\u001b[0;34m(\u001b[0m\u001b[0mjob\u001b[0m\u001b[0;34m.\u001b[0m\u001b[0mget\u001b[0m\u001b[0;34m(\u001b[0m\u001b[0mtimeout\u001b[0m\u001b[0;34m=\u001b[0m\u001b[0mself\u001b[0m\u001b[0;34m.\u001b[0m\u001b[0mtimeout\u001b[0m\u001b[0;34m)\u001b[0m\u001b[0;34m)\u001b[0m\u001b[0;34m\u001b[0m\u001b[0;34m\u001b[0m\u001b[0m\n\u001b[0m\u001b[1;32m    834\u001b[0m                 \u001b[0;32melse\u001b[0m\u001b[0;34m:\u001b[0m\u001b[0;34m\u001b[0m\u001b[0;34m\u001b[0m\u001b[0m\n\u001b[1;32m    835\u001b[0m                     \u001b[0mself\u001b[0m\u001b[0;34m.\u001b[0m\u001b[0m_output\u001b[0m\u001b[0;34m.\u001b[0m\u001b[0mextend\u001b[0m\u001b[0;34m(\u001b[0m\u001b[0mjob\u001b[0m\u001b[0;34m.\u001b[0m\u001b[0mget\u001b[0m\u001b[0;34m(\u001b[0m\u001b[0;34m)\u001b[0m\u001b[0;34m)\u001b[0m\u001b[0;34m\u001b[0m\u001b[0;34m\u001b[0m\u001b[0m\n",
      "\u001b[0;32m/opt/anaconda3/envs/envppca/lib/python3.7/site-packages/joblib/_parallel_backends.py\u001b[0m in \u001b[0;36mwrap_future_result\u001b[0;34m(future, timeout)\u001b[0m\n\u001b[1;32m    519\u001b[0m         AsyncResults.get from multiprocessing.\"\"\"\n\u001b[1;32m    520\u001b[0m         \u001b[0;32mtry\u001b[0m\u001b[0;34m:\u001b[0m\u001b[0;34m\u001b[0m\u001b[0;34m\u001b[0m\u001b[0m\n\u001b[0;32m--> 521\u001b[0;31m             \u001b[0;32mreturn\u001b[0m \u001b[0mfuture\u001b[0m\u001b[0;34m.\u001b[0m\u001b[0mresult\u001b[0m\u001b[0;34m(\u001b[0m\u001b[0mtimeout\u001b[0m\u001b[0;34m=\u001b[0m\u001b[0mtimeout\u001b[0m\u001b[0;34m)\u001b[0m\u001b[0;34m\u001b[0m\u001b[0;34m\u001b[0m\u001b[0m\n\u001b[0m\u001b[1;32m    522\u001b[0m         \u001b[0;32mexcept\u001b[0m \u001b[0mLokyTimeoutError\u001b[0m\u001b[0;34m:\u001b[0m\u001b[0;34m\u001b[0m\u001b[0;34m\u001b[0m\u001b[0m\n\u001b[1;32m    523\u001b[0m             \u001b[0;32mraise\u001b[0m \u001b[0mTimeoutError\u001b[0m\u001b[0;34m(\u001b[0m\u001b[0;34m)\u001b[0m\u001b[0;34m\u001b[0m\u001b[0;34m\u001b[0m\u001b[0m\n",
      "\u001b[0;32m/opt/anaconda3/envs/envppca/lib/python3.7/concurrent/futures/_base.py\u001b[0m in \u001b[0;36mresult\u001b[0;34m(self, timeout)\u001b[0m\n\u001b[1;32m    430\u001b[0m                 \u001b[0;32mraise\u001b[0m \u001b[0mCancelledError\u001b[0m\u001b[0;34m(\u001b[0m\u001b[0;34m)\u001b[0m\u001b[0;34m\u001b[0m\u001b[0;34m\u001b[0m\u001b[0m\n\u001b[1;32m    431\u001b[0m             \u001b[0;32melif\u001b[0m \u001b[0mself\u001b[0m\u001b[0;34m.\u001b[0m\u001b[0m_state\u001b[0m \u001b[0;34m==\u001b[0m \u001b[0mFINISHED\u001b[0m\u001b[0;34m:\u001b[0m\u001b[0;34m\u001b[0m\u001b[0;34m\u001b[0m\u001b[0m\n\u001b[0;32m--> 432\u001b[0;31m                 \u001b[0;32mreturn\u001b[0m \u001b[0mself\u001b[0m\u001b[0;34m.\u001b[0m\u001b[0m__get_result\u001b[0m\u001b[0;34m(\u001b[0m\u001b[0;34m)\u001b[0m\u001b[0;34m\u001b[0m\u001b[0;34m\u001b[0m\u001b[0m\n\u001b[0m\u001b[1;32m    433\u001b[0m             \u001b[0;32melse\u001b[0m\u001b[0;34m:\u001b[0m\u001b[0;34m\u001b[0m\u001b[0;34m\u001b[0m\u001b[0m\n\u001b[1;32m    434\u001b[0m                 \u001b[0;32mraise\u001b[0m \u001b[0mTimeoutError\u001b[0m\u001b[0;34m(\u001b[0m\u001b[0;34m)\u001b[0m\u001b[0;34m\u001b[0m\u001b[0;34m\u001b[0m\u001b[0m\n",
      "\u001b[0;32m/opt/anaconda3/envs/envppca/lib/python3.7/concurrent/futures/_base.py\u001b[0m in \u001b[0;36m__get_result\u001b[0;34m(self)\u001b[0m\n\u001b[1;32m    382\u001b[0m     \u001b[0;32mdef\u001b[0m \u001b[0m__get_result\u001b[0m\u001b[0;34m(\u001b[0m\u001b[0mself\u001b[0m\u001b[0;34m)\u001b[0m\u001b[0;34m:\u001b[0m\u001b[0;34m\u001b[0m\u001b[0;34m\u001b[0m\u001b[0m\n\u001b[1;32m    383\u001b[0m         \u001b[0;32mif\u001b[0m \u001b[0mself\u001b[0m\u001b[0;34m.\u001b[0m\u001b[0m_exception\u001b[0m\u001b[0;34m:\u001b[0m\u001b[0;34m\u001b[0m\u001b[0;34m\u001b[0m\u001b[0m\n\u001b[0;32m--> 384\u001b[0;31m             \u001b[0;32mraise\u001b[0m \u001b[0mself\u001b[0m\u001b[0;34m.\u001b[0m\u001b[0m_exception\u001b[0m\u001b[0;34m\u001b[0m\u001b[0;34m\u001b[0m\u001b[0m\n\u001b[0m\u001b[1;32m    385\u001b[0m         \u001b[0;32melse\u001b[0m\u001b[0;34m:\u001b[0m\u001b[0;34m\u001b[0m\u001b[0;34m\u001b[0m\u001b[0m\n\u001b[1;32m    386\u001b[0m             \u001b[0;32mreturn\u001b[0m \u001b[0mself\u001b[0m\u001b[0;34m.\u001b[0m\u001b[0m_result\u001b[0m\u001b[0;34m\u001b[0m\u001b[0;34m\u001b[0m\u001b[0m\n",
      "\u001b[0;31mValueError\u001b[0m: WRITEBACKIFCOPY base is read-only"
     ]
    }
   ],
   "source": [
    "from sklearn.multiclass import OneVsRestClassifier\n",
    "clf_ovr = OneVsRestClassifier(SVC(kernel='linear', probability=True), n_jobs=-1)\n",
    "start_time = time.time()\n",
    "clf_ovr.fit(X_train_br_tfidf_balanced, Y_train_br_balanced) \n",
    "end_time = time.time() - start_time\n",
    "print('Tempo para a criação do modelo SVC:' + str(timedelta(seconds=end_time)))"
   ]
  },
  {
   "cell_type": "code",
   "execution_count": 35,
   "metadata": {},
   "outputs": [
    {
     "name": "stdout",
     "output_type": "stream",
     "text": [
      "Tempo para a criação do modelo Bagging SVC 0:00:16.259810\n"
     ]
    }
   ],
   "source": [
    "#A Bagging classifier is an ensemble meta-estimator that fits base classifiers each on random subsets of the original dataset and then aggregate their individual predictions (either by voting or by averaging) to form a final prediction. \n",
    "from sklearn.ensemble import BaggingClassifier\n",
    "n_estimators = 8\n",
    "max_samples=round(X_train_br_tfidf_balanced.shape[0] * 0.5)\n",
    "start_time = time.time()\n",
    "clf_ovr_bagged = OneVsRestClassifier(BaggingClassifier(SVC(kernel='linear', probability=True, class_weight='balanced'), max_samples=max_samples, n_estimators=n_estimators, n_jobs=-1))\n",
    "clf_ovr_bagged.fit(X_train_br_tfidf_balanced, Y_train_br_balanced) \n",
    "end_time = time.time() - start_time\n",
    "print(\"Tempo para a criação do modelo Bagging SVC\", str(timedelta(seconds=end_time)))"
   ]
  },
  {
   "cell_type": "markdown",
   "metadata": {},
   "source": [
    "# Teste (Binary Relevance)"
   ]
  },
  {
   "cell_type": "code",
   "execution_count": 301,
   "metadata": {},
   "outputs": [
    {
     "data": {
      "text/plain": [
       "0.6151202749140894"
      ]
     },
     "execution_count": 301,
     "metadata": {},
     "output_type": "execute_result"
    }
   ],
   "source": [
    "y_pred = clf_ovr.predict(X_test_br)\n",
    "clf_ovr.score(X_test_br,Y_test_br)"
   ]
  },
  {
   "cell_type": "code",
   "execution_count": 296,
   "metadata": {},
   "outputs": [
    {
     "name": "stdout",
     "output_type": "stream",
     "text": [
      "Confusion matrix:\n",
      " [[[261   6]\n",
      "  [ 22   2]]\n",
      "\n",
      " [[208  25]\n",
      "  [ 36  22]]\n",
      "\n",
      " [[226  20]\n",
      "  [ 25  20]]]\n"
     ]
    }
   ],
   "source": [
    "conf_mat = multilabel_confusion_matrix(y_true=Y_test_br, y_pred=y_pred)\n",
    "print('Confusion matrix:\\n', conf_mat)"
   ]
  },
  {
   "cell_type": "code",
   "execution_count": 36,
   "metadata": {},
   "outputs": [
    {
     "data": {
      "text/plain": [
       "0.6511627906976745"
      ]
     },
     "execution_count": 36,
     "metadata": {},
     "output_type": "execute_result"
    }
   ],
   "source": [
    "y_pred_bagged = clf_ovr_bagged.predict(X_test_br)\n",
    "clf_ovr_bagged.score(X_test_br,Y_test_br)"
   ]
  },
  {
   "cell_type": "code",
   "execution_count": 39,
   "metadata": {},
   "outputs": [
    {
     "data": {
      "text/plain": [
       "0.6511627906976745"
      ]
     },
     "execution_count": 39,
     "metadata": {},
     "output_type": "execute_result"
    }
   ],
   "source": [
    "y_pred_proba = clf_ovr_bagged.predict_proba(X_test_br)\n",
    "clf_ovr_bagged.score(X_test_br,Y_test_br)"
   ]
  },
  {
   "cell_type": "code",
   "execution_count": 40,
   "metadata": {},
   "outputs": [
    {
     "data": {
      "text/plain": [
       "array([[0.05, 0.06, 0.83],\n",
       "       [0.01, 0.13, 0.85],\n",
       "       [0.20, 0.06, 0.73],\n",
       "       [0.03, 0.43, 0.67],\n",
       "       [0.06, 0.50, 0.28],\n",
       "       [0.02, 0.07, 0.90],\n",
       "       [0.78, 0.15, 0.07],\n",
       "       [0.05, 0.58, 0.27],\n",
       "       [0.05, 0.26, 0.53],\n",
       "       [0.02, 0.15, 0.84],\n",
       "       [0.74, 0.13, 0.12],\n",
       "       [0.05, 0.73, 0.16],\n",
       "       [0.03, 0.41, 0.59],\n",
       "       [0.01, 0.32, 0.97],\n",
       "       [0.74, 0.10, 0.14],\n",
       "       [0.03, 0.47, 0.37],\n",
       "       [0.10, 0.47, 0.16],\n",
       "       [0.04, 0.09, 0.80],\n",
       "       [0.10, 0.19, 0.55],\n",
       "       [0.04, 0.19, 0.66],\n",
       "       [0.01, 0.21, 0.81],\n",
       "       [0.00, 0.69, 0.91],\n",
       "       [0.00, 0.04, 0.99],\n",
       "       [0.01, 0.12, 0.92],\n",
       "       [0.04, 0.64, 0.26],\n",
       "       [0.06, 0.51, 0.28],\n",
       "       [0.04, 0.26, 0.66],\n",
       "       [0.03, 0.03, 0.94],\n",
       "       [0.02, 0.10, 0.81],\n",
       "       [0.03, 0.89, 0.07],\n",
       "       [0.01, 0.75, 0.42],\n",
       "       [0.01, 0.80, 0.54],\n",
       "       [0.16, 0.64, 0.41],\n",
       "       [0.01, 0.77, 0.25],\n",
       "       [0.02, 0.18, 0.79],\n",
       "       [0.09, 0.12, 0.62],\n",
       "       [0.03, 0.51, 0.59],\n",
       "       [0.03, 0.14, 0.72],\n",
       "       [0.37, 0.11, 0.34],\n",
       "       [0.04, 0.60, 0.29],\n",
       "       [0.01, 0.62, 0.84],\n",
       "       [0.02, 0.68, 0.36],\n",
       "       [0.06, 0.23, 0.51],\n",
       "       [0.14, 0.11, 0.75],\n",
       "       [0.01, 0.05, 0.95],\n",
       "       [0.13, 0.21, 0.50],\n",
       "       [0.79, 0.07, 0.16],\n",
       "       [0.08, 0.11, 0.65],\n",
       "       [0.07, 0.37, 0.48],\n",
       "       [0.00, 0.02, 0.98],\n",
       "       [0.93, 0.05, 0.11],\n",
       "       [0.01, 0.62, 0.84],\n",
       "       [0.07, 0.08, 0.74],\n",
       "       [0.02, 0.42, 0.52],\n",
       "       [0.22, 0.18, 0.47],\n",
       "       [0.01, 0.12, 0.90],\n",
       "       [0.05, 0.18, 0.58],\n",
       "       [0.03, 0.08, 0.81],\n",
       "       [0.30, 0.10, 0.38],\n",
       "       [0.06, 0.14, 0.72],\n",
       "       [0.06, 0.30, 0.86],\n",
       "       [0.07, 0.28, 0.47],\n",
       "       [0.30, 0.41, 0.14],\n",
       "       [0.02, 0.22, 0.95],\n",
       "       [0.00, 0.89, 0.51],\n",
       "       [0.02, 0.05, 0.91],\n",
       "       [0.08, 0.17, 0.61],\n",
       "       [0.02, 0.15, 0.79],\n",
       "       [0.02, 0.69, 0.66],\n",
       "       [0.06, 0.49, 0.31],\n",
       "       [0.05, 0.14, 0.71],\n",
       "       [0.02, 0.13, 0.78],\n",
       "       [0.12, 0.42, 0.24],\n",
       "       [0.02, 0.03, 0.96],\n",
       "       [0.96, 0.07, 0.06],\n",
       "       [0.05, 0.42, 0.46],\n",
       "       [0.01, 0.07, 0.93],\n",
       "       [0.01, 0.92, 0.14],\n",
       "       [0.46, 0.15, 0.25],\n",
       "       [0.03, 0.24, 0.74],\n",
       "       [0.01, 0.10, 0.89],\n",
       "       [0.03, 0.11, 0.86],\n",
       "       [0.14, 0.22, 0.30],\n",
       "       [0.03, 0.03, 0.92],\n",
       "       [0.00, 0.08, 0.95],\n",
       "       [0.03, 0.57, 0.36],\n",
       "       [0.10, 0.41, 0.27],\n",
       "       [0.03, 0.44, 0.41],\n",
       "       [0.03, 0.58, 0.28],\n",
       "       [0.04, 0.43, 0.34],\n",
       "       [0.01, 0.67, 0.27],\n",
       "       [0.10, 0.35, 0.34],\n",
       "       [0.03, 0.07, 0.91],\n",
       "       [0.34, 0.16, 0.29],\n",
       "       [0.07, 0.12, 0.64],\n",
       "       [0.04, 0.66, 0.15],\n",
       "       [0.33, 0.20, 0.23],\n",
       "       [0.01, 0.10, 0.92],\n",
       "       [0.04, 0.12, 0.78],\n",
       "       [0.07, 0.37, 0.33],\n",
       "       [0.02, 0.27, 0.59],\n",
       "       [0.05, 0.33, 0.60],\n",
       "       [0.01, 0.08, 0.95],\n",
       "       [0.08, 0.15, 0.65],\n",
       "       [0.12, 0.24, 0.48],\n",
       "       [0.01, 0.12, 0.93],\n",
       "       [0.01, 0.03, 0.97],\n",
       "       [0.03, 0.86, 0.08],\n",
       "       [0.04, 0.17, 0.93],\n",
       "       [0.01, 0.09, 0.93],\n",
       "       [0.07, 0.35, 0.33],\n",
       "       [0.02, 0.03, 0.93],\n",
       "       [0.02, 0.10, 0.89],\n",
       "       [0.02, 0.47, 0.89],\n",
       "       [0.08, 0.18, 0.58],\n",
       "       [0.07, 0.59, 0.16],\n",
       "       [0.06, 0.23, 0.50],\n",
       "       [0.01, 0.51, 0.75],\n",
       "       [0.02, 0.11, 0.79],\n",
       "       [0.02, 0.24, 0.72],\n",
       "       [0.09, 0.32, 0.36],\n",
       "       [0.03, 0.45, 0.53],\n",
       "       [0.03, 0.62, 0.19],\n",
       "       [0.02, 0.24, 0.69],\n",
       "       [0.01, 0.26, 0.76],\n",
       "       [0.04, 0.24, 0.65],\n",
       "       [0.01, 0.79, 0.23],\n",
       "       [0.48, 0.07, 0.76],\n",
       "       [0.01, 0.91, 0.13],\n",
       "       [0.04, 0.32, 0.67],\n",
       "       [0.03, 0.27, 0.63],\n",
       "       [0.04, 0.24, 0.58],\n",
       "       [0.18, 0.29, 0.32],\n",
       "       [0.16, 0.11, 0.57],\n",
       "       [0.04, 0.66, 0.24],\n",
       "       [0.01, 0.25, 0.76],\n",
       "       [0.01, 0.90, 0.08],\n",
       "       [0.00, 0.08, 0.96],\n",
       "       [0.01, 0.13, 0.86],\n",
       "       [0.09, 0.18, 0.54],\n",
       "       [0.02, 0.17, 0.78],\n",
       "       [0.04, 0.48, 0.30],\n",
       "       [0.02, 0.14, 0.84],\n",
       "       [0.07, 0.69, 0.16],\n",
       "       [0.02, 0.23, 0.77],\n",
       "       [0.03, 0.16, 0.77],\n",
       "       [0.05, 0.29, 0.44],\n",
       "       [0.05, 0.06, 0.82],\n",
       "       [0.01, 0.94, 0.04],\n",
       "       [0.04, 0.59, 0.17],\n",
       "       [0.05, 0.81, 0.06],\n",
       "       [0.03, 0.43, 0.66],\n",
       "       [0.16, 0.16, 0.50],\n",
       "       [0.04, 0.10, 0.81],\n",
       "       [0.01, 0.05, 0.97],\n",
       "       [0.01, 0.93, 0.10],\n",
       "       [0.03, 0.43, 0.62],\n",
       "       [0.23, 0.15, 0.40],\n",
       "       [0.02, 0.07, 0.83],\n",
       "       [0.02, 0.22, 0.81],\n",
       "       [0.03, 0.43, 0.40],\n",
       "       [0.03, 0.79, 0.09],\n",
       "       [0.02, 0.50, 0.65],\n",
       "       [0.02, 0.92, 0.05],\n",
       "       [0.09, 0.41, 0.27],\n",
       "       [0.05, 0.04, 0.91],\n",
       "       [0.05, 0.24, 0.58],\n",
       "       [0.01, 0.96, 0.04],\n",
       "       [0.07, 0.36, 0.41],\n",
       "       [0.01, 0.07, 0.92],\n",
       "       [0.01, 0.19, 0.89],\n",
       "       [0.02, 0.22, 0.74]])"
      ]
     },
     "execution_count": 40,
     "metadata": {},
     "output_type": "execute_result"
    }
   ],
   "source": [
    "y_pred_proba"
   ]
  },
  {
   "cell_type": "code",
   "execution_count": null,
   "metadata": {},
   "outputs": [],
   "source": [
    "# keep: https://www.anoreg.org.br/site/2019/06/10/cnj-inteligencia-artificial-sera-usada-para-verificar-qualidade-de-dados-processuais/"
   ]
  }
 ],
 "metadata": {
  "kernelspec": {
   "display_name": "Python 3",
   "language": "python",
   "name": "python3"
  },
  "language_info": {
   "codemirror_mode": {
    "name": "ipython",
    "version": 3
   },
   "file_extension": ".py",
   "mimetype": "text/x-python",
   "name": "python",
   "nbconvert_exporter": "python",
   "pygments_lexer": "ipython3",
   "version": "3.7.3"
  }
 },
 "nbformat": 4,
 "nbformat_minor": 4
}
