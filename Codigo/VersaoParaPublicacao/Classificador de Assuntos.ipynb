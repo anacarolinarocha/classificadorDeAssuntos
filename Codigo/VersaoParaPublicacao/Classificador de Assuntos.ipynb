{
 "cells": [
  {
   "cell_type": "markdown",
   "metadata": {},
   "source": [
    "# Classificador de Assuntos\n",
    "\n",
    "Por Ana Carolina Pereira Rocha"
   ]
  },
  {
   "cell_type": "code",
   "execution_count": 4,
   "metadata": {
    "pycharm": {
     "is_executing": false
    }
   },
   "outputs": [],
   "source": [
    "from docutils.nodes import header\n",
    "from sklearn.naive_bayes import MultinomialNB\n",
    "from sklearn.ensemble import RandomForestClassifier\n",
    "from sklearn.neural_network import MLPClassifier\n",
    "from sklearn.svm import SVC,LinearSVC\n",
    "from datetime import timedelta\n",
    "import time\n",
    "import sys\n",
    "from datetime import datetime\n",
    "import seaborn as sns\n",
    "import matplotlib.pyplot as plt\n",
    "import uuid\n",
    "import os\n",
    "from sklearn.calibration import CalibratedClassifierCV\n",
    "import argparse\n",
    "import multiprocessing as mp\n",
    "import numpy as np\n",
    "import pandas as pd"
   ]
  },
  {
   "cell_type": "code",
   "execution_count": 5,
   "metadata": {
    "pycharm": {
     "is_executing": false
    }
   },
   "outputs": [],
   "source": [
    "#!pip --trusted-host=pypi.python.org --trusted-host=pypi.org --trusted-host=files.pythonhosted.org install imbalanced-learn\n"
   ]
  },
  {
   "cell_type": "markdown",
   "metadata": {},
   "source": [
    "Verificando o ambiente de execução do conda"
   ]
  },
  {
   "cell_type": "code",
   "execution_count": 6,
   "metadata": {
    "pycharm": {
     "is_executing": false
    }
   },
   "outputs": [
    {
     "name": "stdout",
     "text": [
      "envppca\n"
     ],
     "output_type": "stream"
    }
   ],
   "source": [
    "import os\n",
    "print(os.environ['CONDA_DEFAULT_ENV'])"
   ]
  },
  {
   "cell_type": "code",
   "execution_count": 7,
   "metadata": {
    "pycharm": {
     "is_executing": false
    }
   },
   "outputs": [],
   "source": [
    "import funcoes as func\n",
    "from modelo import *"
   ]
  },
  {
   "cell_type": "code",
   "execution_count": 8,
   "metadata": {
    "pycharm": {
     "is_executing": false
    }
   },
   "outputs": [],
   "source": [
    "n_cores = mp.cpu_count()\n",
    "n_cores_grande = round(n_cores * 0.8)\n",
    "n_cores_pequeno = round(n_cores * 0.35)"
   ]
  },
  {
   "cell_type": "markdown",
   "metadata": {},
   "source": [
    "#### ATENÇÃO:\n",
    "\n",
    "A célula abaixo deve ser editada para conter o caminho correto para a pasta onde os dados serão buscados, e a pasta onde serão gravadas as saídas do processamento deste código. O caminho de cada pasta deve ser terminado com a '/' no final."
   ]
  },
  {
   "cell_type": "code",
   "execution_count": 9,
   "metadata": {
    "pycharm": {
     "is_executing": false
    }
   },
   "outputs": [],
   "source": [
    "path_fonte_de_dados = '/home/anarocha/Documents/DocumentosClassificadorAssuntos/'\n",
    "path_resultados = '/home/anarocha/Documents/DocumentosClassificadorAssuntos/DocsProcessados/'"
   ]
  },
  {
   "cell_type": "code",
   "execution_count": 10,
   "metadata": {
    "pycharm": {
     "is_executing": false
    }
   },
   "outputs": [],
   "source": [
    "if not os.path.exists(path_resultados):\n",
    "    os.makedirs(path_resultados)"
   ]
  },
  {
   "cell_type": "code",
   "execution_count": 11,
   "metadata": {
    "pycharm": {
     "is_executing": false
    }
   },
   "outputs": [],
   "source": [
    "float_formatter = lambda x: \"%.4f\" % x\n",
    "np.set_printoptions(formatter={'float_kind':float_formatter})\n",
    "\n",
    "columnsResultados=['id_execucao', 'data', 'nome','feature_type','tempo_processamento','tamanho_conjunto_treinamento','accuracy','balanced_accuracy','micro_precision','micro_recall','micro_fscore','macro_precision','macro_recall','macro_fscore','best_params_','best_estimator_','grid_scores_','grid_cv_results','confusion_matrix','classification_report','num_estimators','max_samples']\n",
    "df_resultados = pd.DataFrame(columns = columnsResultados)\n",
    "nome_arquivo_destino = path_resultados + \"Metricas.csv\"\n",
    "if  not (os.path.isfile(nome_arquivo_destino)):\n",
    "    with open(nome_arquivo_destino, 'a') as f:\n",
    "        df_resultados.to_csv(f, header=True)\n",
    "nome_classification_reports = path_resultados + 'ClassificationReport'\n",
    "\n",
    "id_execucao = str(uuid.uuid1())[:7]\n",
    "data = datetime.now().strftime(\"%d/%m/%Y %H:%M:%S\")\n",
    "\n",
    "modelos = []\n",
    "\n",
    "listaAssuntos=[2546,2086,1855,2594,2458,2704,2656,2140,2435,2029,2583,2554,8808,2117,2021,5280,1904,1844,2055,1907,1806,55220,2506,\n",
    "                        4437,10570,1783,1888,2478,5356,1773,1663,5272,2215,1767,1661,1690]\n"
   ]
  },
  {
   "cell_type": "markdown",
   "metadata": {},
   "source": [
    "Definindo modelos que serão usados"
   ]
  },
  {
   "cell_type": "code",
   "execution_count": 12,
   "metadata": {
    "pycharm": {
     "is_executing": false
    }
   },
   "outputs": [],
   "source": [
    "classificadorNB = MultinomialNB()\n",
    "classificadorRF = RandomForestClassifier(random_state=42)\n",
    "classificadorSVM = CalibratedClassifierCV(LinearSVC(class_weight='balanced', max_iter=10000,random_state=42),method='sigmoid', cv=5)\n",
    "classificadorMLP = MLPClassifier(early_stopping= True,random_state=42)\n",
    "\n",
    "nomeAlgoritmoNB='Multinomial Naive Bayes'\n",
    "nomeAlgoritmoRF='Random Forest'\n",
    "nomeAlgoritmoSVM='SVM'\n",
    "nomeAlgoritmoMLP=\"Multi-Layer Perceptron\""
   ]
  },
  {
   "cell_type": "markdown",
   "metadata": {},
   "source": [
    "Pré-processamento dos documentos"
   ]
  },
  {
   "cell_type": "code",
   "execution_count": 13,
   "metadata": {
    "pycharm": {
     "is_executing": false
    }
   },
   "outputs": [
    {
     "name": "stdout",
     "text": [
      "Todos os documentos disponíveis foram processados\n"
     ],
     "output_type": "stream"
    }
   ],
   "source": [
    "path_destino_de_dados = path_fonte_de_dados + 'DocumentosProcessados/'\n",
    "if not os.path.exists(path_destino_de_dados):\n",
    "        os.makedirs(path_destino_de_dados)\n",
    "        \n",
    "#func.processaDocumentos(path_fonte_de_dados,path_destino_de_dados)\n",
    "print(\"Todos os documentos disponíveis foram processados\")"
   ]
  },
  {
   "cell_type": "markdown",
   "metadata": {},
   "source": [
    "Recuperando textos"
   ]
  },
  {
   "cell_type": "code",
   "execution_count": 14,
   "metadata": {
    "pycharm": {
     "is_executing": false
    }
   },
   "outputs": [
    {
     "name": "stdout",
     "text": [
      "Buscando 200 elementos de cada assunto em cada regional\n",
      "Não foi encontrado o arquivo de documentos do TRT 01. Buscou-se pelo arquivo /home/anarocha/Documents/DocumentosClassificadorAssuntos/DocumentosProcessados/TRT_01_documentosSelecionadosProcessados.csv\n",
      "Não foi encontrado o arquivo de documentos do TRT 05. Buscou-se pelo arquivo /home/anarocha/Documents/DocumentosClassificadorAssuntos/DocumentosProcessados/TRT_05_documentosSelecionadosProcessados.csv\n",
      "Não foi encontrado o arquivo de documentos do TRT 02. Buscou-se pelo arquivo /home/anarocha/Documents/DocumentosClassificadorAssuntos/DocumentosProcessados/TRT_02_documentosSelecionadosProcessados.csv\n",
      "Não foi encontrado o arquivo de documentos do TRT 04. Buscou-se pelo arquivo /home/anarocha/Documents/DocumentosClassificadorAssuntos/DocumentosProcessados/TRT_04_documentosSelecionadosProcessados.csv\n",
      "Não foi encontrado o arquivo de documentos do TRT 03. Buscou-se pelo arquivo /home/anarocha/Documents/DocumentosClassificadorAssuntos/DocumentosProcessados/TRT_03_documentosSelecionadosProcessados.csv\n",
      "Não foi encontrado o arquivo de documentos do TRT 06. Buscou-se pelo arquivo /home/anarocha/Documents/DocumentosClassificadorAssuntos/DocumentosProcessados/TRT_06_documentosSelecionadosProcessados.csv\n",
      "Não foi encontrado o arquivo de documentos do TRT 07. Buscou-se pelo arquivo /home/anarocha/Documents/DocumentosClassificadorAssuntos/DocumentosProcessados/TRT_07_documentosSelecionadosProcessados.csv\n",
      "Não foi encontrado o arquivo de documentos do TRT 11. Buscou-se pelo arquivo /home/anarocha/Documents/DocumentosClassificadorAssuntos/DocumentosProcessados/TRT_11_documentosSelecionadosProcessados.csv\n",
      "Não foi encontrado o arquivo de documentos do TRT 10. Buscou-se pelo arquivo /home/anarocha/Documents/DocumentosClassificadorAssuntos/DocumentosProcessados/TRT_10_documentosSelecionadosProcessados.csv\n",
      "Não foi encontrado o arquivo de documentos do TRT 12. Buscou-se pelo arquivo /home/anarocha/Documents/DocumentosClassificadorAssuntos/DocumentosProcessados/TRT_12_documentosSelecionadosProcessados.csv\n",
      "Não foi encontrado o arquivo de documentos do TRT 14. Buscou-se pelo arquivo /home/anarocha/Documents/DocumentosClassificadorAssuntos/DocumentosProcessados/TRT_14_documentosSelecionadosProcessados.csv\n",
      "Não foi encontrado o arquivo de documentos do TRT 13. Buscou-se pelo arquivo /home/anarocha/Documents/DocumentosClassificadorAssuntos/DocumentosProcessados/TRT_13_documentosSelecionadosProcessados.csv\n",
      "Não foi encontrado o arquivo de documentos do TRT 16. Buscou-se pelo arquivo /home/anarocha/Documents/DocumentosClassificadorAssuntos/DocumentosProcessados/TRT_16_documentosSelecionadosProcessados.csv\n",
      "Não foi encontrado o arquivo de documentos do TRT 15. Buscou-se pelo arquivo /home/anarocha/Documents/DocumentosClassificadorAssuntos/DocumentosProcessados/TRT_15_documentosSelecionadosProcessados.csv\n",
      "Não foi encontrado o arquivo de documentos do TRT 17. Buscou-se pelo arquivo /home/anarocha/Documents/DocumentosClassificadorAssuntos/DocumentosProcessados/TRT_17_documentosSelecionadosProcessados.csv\n",
      "Não foi encontrado o arquivo de documentos do TRT 18. Buscou-se pelo arquivo /home/anarocha/Documents/DocumentosClassificadorAssuntos/DocumentosProcessados/TRT_18_documentosSelecionadosProcessados.csv\n",
      "Não foi encontrado o arquivo de documentos do TRT 20. Buscou-se pelo arquivo /home/anarocha/Documents/DocumentosClassificadorAssuntos/DocumentosProcessados/TRT_20_documentosSelecionadosProcessados.csv\n",
      "Não foi encontrado o arquivo de documentos do TRT 21. Buscou-se pelo arquivo /home/anarocha/Documents/DocumentosClassificadorAssuntos/DocumentosProcessados/TRT_21_documentosSelecionadosProcessados.csv\n",
      "Não foi encontrado o arquivo de documentos do TRT 22. Buscou-se pelo arquivo /home/anarocha/Documents/DocumentosClassificadorAssuntos/DocumentosProcessados/TRT_22_documentosSelecionadosProcessados.csv\n",
      "Não foi encontrado o arquivo de documentos do TRT 23. Buscou-se pelo arquivo /home/anarocha/Documents/DocumentosClassificadorAssuntos/DocumentosProcessados/TRT_23_documentosSelecionadosProcessados.csv\n",
      "Não foi encontrado o arquivo de documentos do TRT 19. Buscou-se pelo arquivo /home/anarocha/Documents/DocumentosClassificadorAssuntos/DocumentosProcessados/TRT_19_documentosSelecionadosProcessados.csv\n",
      "Não foi encontrado o arquivo de documentos do TRT 24. Buscou-se pelo arquivo /home/anarocha/Documents/DocumentosClassificadorAssuntos/DocumentosProcessados/TRT_24_documentosSelecionadosProcessados.csv\n",
      "Quantidade de documentos recuperados no TRT 09: 600\n",
      "Quantidade de documentos recuperados no TRT 08: 600\n",
      "(1200, 16)\n",
      "Tempo para recuperar amostra de todos os regionais  0:00:02.415509\n"
     ],
     "output_type": "stream"
    }
   ],
   "source": [
    "qtdElementosPorAssunto=1000000\n",
    "df_amostra = func.recupera_amostras_de_todos_regionais(listaAssuntos, qtdElementosPorAssunto, path_destino_de_dados)"
   ]
  },
  {
   "cell_type": "markdown",
   "metadata": {},
   "source": [
    "Juntando os assuntos 55220 e 1855, ambos Indenização por Dano Moral"
   ]
  },
  {
   "cell_type": "code",
   "execution_count": 15,
   "metadata": {
    "pycharm": {
     "is_executing": false
    }
   },
   "outputs": [],
   "source": [
    "df_amostra.loc[df_amostra['cd_assunto_nivel_3'] == 55220, 'cd_assunto_nivel_3'] = 1855\n",
    "df_amostra.loc[df_amostra['cd_assunto_nivel_2'] == 55218, 'cd_assunto_nivel_3'] = 2567"
   ]
  },
  {
   "cell_type": "code",
   "execution_count": 16,
   "metadata": {
    "pycharm": {
     "is_executing": false
    }
   },
   "outputs": [
    {
     "name": "stdout",
     "text": [
      "Total de textos recuperados: 1200\n",
      "Total de textos recuperados com conteúdo: 1197\n"
     ],
     "output_type": "stream"
    }
   ],
   "source": [
    "print('Total de textos recuperados: ' + str(len(df_amostra)))\n",
    "df_amostra = df_amostra.dropna(subset=['texto_stemizado'])\n",
    "print('Total de textos recuperados com conteúdo: ' + str(len(df_amostra)))"
   ]
  },
  {
   "cell_type": "markdown",
   "metadata": {},
   "source": [
    "Analisando tamanho dos textos"
   ]
  },
  {
   "cell_type": "code",
   "execution_count": 17,
   "metadata": {
    "pycharm": {
     "is_executing": false
    }
   },
   "outputs": [
    {
     "name": "stdout",
     "text": [
      "Quantidade de textos entre 0 e 400 palavras: 260\n",
      "Quantidade de textos com mais de 10.000 palavras: 46\n"
     ],
     "output_type": "stream"
    },
    {
     "data": {
      "text/plain": "<Figure size 432x288 with 1 Axes>",
      "image/png": "[encoded data removed]"
     },
     "metadata": {
      "needs_background": "light"
     },
     "output_type": "display_data"
    }
   ],
   "source": [
    "df_amostra['quantidade_de_palavras'] = [len(x.split()) for x in df_amostra['texto_processado'].tolist()]\n",
    "sns.boxplot(df_amostra['quantidade_de_palavras'])\n",
    "plt.savefig(\"{0}{1}.png\".format(path_resultados, \"Distribuicao_Tamanho_Textos_Original\"))\n",
    "\n",
    "df_amostra_f = df_amostra[((df_amostra.quantidade_de_palavras < 400) & (df_amostra.quantidade_de_palavras > 0))]\n",
    "print('Quantidade de textos entre 0 e 400 palavras: ' + str(len(df_amostra_f)))\n",
    "df_amostra_f = df_amostra[(df_amostra.quantidade_de_palavras > 10000)]\n",
    "print('Quantidade de textos com mais de 10.000 palavras: ' + str(len(df_amostra_f)))\n",
    "df_amostra.shape\n",
    "df_amostra_f = df_amostra[((df_amostra.quantidade_de_palavras < 10000) & (df_amostra.quantidade_de_palavras > 400))]\n",
    "df_amostra_f= df_amostra_f.sort_values(by='quantidade_de_palavras', ascending=True)\n",
    "df_amostra_f.shape\n",
    "df_amostra = df_amostra_f\n",
    "plt.clf()\n",
    "plt.cla()\n",
    "plt.close()\n",
    "sns.boxplot(df_amostra['quantidade_de_palavras'])\n",
    "plt.savefig(\"{0}{1}.png\".format(path_resultados, \"Distribuicao_Tamanho_Textos_Depois_Da_Remocao_De_Textos_Com_Mais_De_400_e_Menos_de_10000\"))\n"
   ]
  },
  {
   "cell_type": "code",
   "execution_count": 18,
   "metadata": {
    "pycharm": {
     "is_executing": false
    }
   },
   "outputs": [
    {
     "name": "stdout",
     "text": [
      "Total de textos utilizados: 891\n",
      "Amostra de teste de 179 elementos\n",
      "Amostra de treinamento de 712 elementos\n"
     ],
     "output_type": "stream"
    }
   ],
   "source": [
    "print('Total de textos utilizados: ' + str(len(df_amostra)))\n",
    "X_train, X_test, y_train, y_test = func.splitTrainTest(df_amostra)\n",
    "print(\"Amostra de teste de \" + str(X_test.shape[0]) + \" elementos\")\n",
    "print(\"Amostra de treinamento de \" + str(X_train.shape[0]) + \" elementos\")\n"
   ]
  },
  {
   "cell_type": "code",
   "execution_count": 19,
   "metadata": {
    "pycharm": {
     "is_executing": false
    }
   },
   "outputs": [
    {
     "data": {
      "text/plain": "<Figure size 432x288 with 1 Axes>",
      "image/png": "[encoded data removed]"
     },
     "metadata": {
      "needs_background": "light"
     },
     "output_type": "display_data"
    }
   ],
   "source": [
    "title = \"Balanceamento de assuntos na amostra de \"  + str(X_train.shape[0])\n",
    "func.mostra_balanceamento_assunto(y_train.value_counts(), title, \"Quantidade Elementos\", \"Código Assunto\", path_resultados, y_train.shape[0])"
   ]
  },
  {
   "cell_type": "markdown",
   "metadata": {},
   "source": [
    "## Criando matrizes"
   ]
  },
  {
   "cell_type": "markdown",
   "metadata": {},
   "source": [
    "#### TF-IDF"
   ]
  },
  {
   "cell_type": "code",
   "execution_count": 20,
   "metadata": {
    "pycharm": {
     "is_executing": false
    }
   },
   "outputs": [
    {
     "name": "stdout",
     "text": [
      "Tempo para montar matrizes TF-IDF (features:  6304) :0:00:02.406011\n"
     ],
     "output_type": "stream"
    }
   ],
   "source": [
    "start_time = time.time()\n",
    "tfidf_transformer,x_tfidf_train, x_tfidf_test = func.extraiFeaturesTFIDF_train_test(df_amostra, X_train['texto_stemizado'], X_test['texto_stemizado'], path_resultados)\n",
    "total_time = time.time() - start_time\n",
    "print(\"Tempo para montar matrizes TF-IDF (features:  \"+ str(x_tfidf_train.shape[1]) + \") :\" +   str(timedelta(seconds=total_time)))\n"
   ]
  },
  {
   "cell_type": "markdown",
   "metadata": {},
   "source": [
    "#### BM25"
   ]
  },
  {
   "cell_type": "code",
   "execution_count": 21,
   "metadata": {
    "pycharm": {
     "is_executing": false
    }
   },
   "outputs": [
    {
     "name": "stderr",
     "text": [
      "/home/anarocha/Documents/myGit/classificadorDeAssuntos/Codigo/VersaoParaPublicacao/BM25_Transformer.py:52: FutureWarning: Conversion of the second argument of issubdtype from `float` to `np.floating` is deprecated. In future, it will be treated as `np.float64 == np.dtype(float).type`.\n",
      "  if hasattr(X, 'dtype') and np.issubdtype(X.dtype, np.float):\n",
      "/home/anarocha/Documents/myGit/classificadorDeAssuntos/Codigo/VersaoParaPublicacao/BM25_Transformer.py:52: FutureWarning: Conversion of the second argument of issubdtype from `float` to `np.floating` is deprecated. In future, it will be treated as `np.float64 == np.dtype(float).type`.\n",
      "  if hasattr(X, 'dtype') and np.issubdtype(X.dtype, np.float):\n"
     ],
     "output_type": "stream"
    }
   ],
   "source": [
    "bm25_transformer,x_bm25_train, x_bm25_test = func.extraiFeaturesBM25(df_amostra, tfidf_transformer, x_tfidf_train, x_tfidf_test, path_resultados)"
   ]
  },
  {
   "cell_type": "markdown",
   "metadata": {},
   "source": [
    "#### LSI"
   ]
  },
  {
   "cell_type": "code",
   "execution_count": 22,
   "metadata": {
    "pycharm": {
     "is_executing": false
    }
   },
   "outputs": [],
   "source": [
    "lsi100_transformer,x_lsi100_train, x_lsi100_test = func.extraiFeaturesLSI(df_amostra, X_train['texto_stemizado'], X_test['texto_stemizado'], 100, path_resultados)\n",
    "lsi250_transformer,x_lsi250_train, x_lsi250_test = func.extraiFeaturesLSI(df_amostra, X_train['texto_stemizado'], X_test['texto_stemizado'], 250, path_resultados)\n",
    "\n"
   ]
  },
  {
   "cell_type": "markdown",
   "metadata": {},
   "source": [
    "## Grid Search\n",
    "#### Com TF-IDF\n",
    "\n",
    "Coloque aqui a quantidade de configurações diferentes a serem testadas no GridSearch para cada modelo. "
   ]
  },
  {
   "cell_type": "code",
   "execution_count": 23,
   "metadata": {
    "pycharm": {
     "is_executing": false
    }
   },
   "outputs": [],
   "source": [
    "numero_de_configuracoes_por_modelo=2"
   ]
  },
  {
   "cell_type": "markdown",
   "metadata": {},
   "source": [
    "#### Multinomial Naïve-Bayes (NB)"
   ]
  },
  {
   "cell_type": "code",
   "execution_count": 24,
   "metadata": {
    "pycharm": {
     "is_executing": false
    }
   },
   "outputs": [
    {
     "name": "stdout",
     "text": [
      ">> Fazendo Grid Search para classificador Multinomial Naive Bayes\n",
      "Fitting 5 folds for each of 2 candidates, totalling 10 fits\n",
      "Tempo para execução do GridSearch para OVR Balanced Bagging Multinomial Naive Bayes para 712 elementos:  0:00:02.764313\n",
      ">> Testando classificador TFIDF_Multinomial Naive Bayes\n",
      "Tempo para fazer a predicao de  179 elementos:  0:00:00.042968\n",
      "Tempo para recuperar métricas:  0:00:00.007390\n",
      " \n",
      "Nome modelo: TFIDF_Multinomial Naive Bayes\n",
      "Quantidade de elementos de treinamento: 712\n",
      "Tempo de treinamento: 0:00:00.114591\n",
      "Feature Type: TFIDF\n",
      "Accuracy: 0.5363128491620112\n",
      "Balanced Accuracy: 0.5387004585139125\n",
      "macro_precision 0.5281920125909896 \n",
      "macro_recall    0.5387004585139125 \n",
      "macro_fscore    0.5292326558868615\n",
      "micro_precision 0.5274493684172348 \n",
      "micro_recall    0.5363128491620112 \n",
      "micro_fscore    0.5276427498199544\n"
     ],
     "output_type": "stream"
    },
    {
     "name": "stderr",
     "text": [
      "[Parallel(n_jobs=3)]: Using backend LokyBackend with 3 concurrent workers.\n",
      "[Parallel(n_jobs=3)]: Done  10 out of  10 | elapsed:    2.6s finished\n"
     ],
     "output_type": "stream"
    }
   ],
   "source": [
    "param_grid_NB = {\n",
    "    'estimator__n_estimators': [3,5],\n",
    "    'estimator__max_samples': [0.8,0.5],\n",
    "    'estimator__base_estimator__alpha': [0.0001, 0.001, 0.01, 0.1, 0.5, 1]\n",
    "}\n",
    "modeloNB = func.chama_treinamento_modelo(x_tfidf_train, y_train, x_tfidf_test,y_test, classificadorNB, nomeAlgoritmoNB , 'TFIDF',param_grid_NB,numero_de_configuracoes_por_modelo,n_cores_grande,id_execucao ,data,path_resultados,df_resultados,nome_arquivo_destino,X_test)\n",
    "modelos.append([modeloNB.getNome(),modeloNB.getFeatureType(),modeloNB.getMicroPrecision(),modeloNB])"
   ]
  },
  {
   "cell_type": "markdown",
   "metadata": {},
   "source": [
    "#### SVM"
   ]
  },
  {
   "cell_type": "code",
   "execution_count": 25,
   "metadata": {
    "pycharm": {
     "is_executing": false
    }
   },
   "outputs": [
    {
     "name": "stdout",
     "text": [
      ">> Fazendo Grid Search para classificador SVM\n",
      "Fitting 5 folds for each of 2 candidates, totalling 10 fits\n",
      "Tempo para execução do GridSearch para OVR Balanced Bagging SVM para 712 elementos:  0:00:06.258452\n",
      ">> Testando classificador TFIDF_SVM\n",
      "Tempo para fazer a predicao de  179 elementos:  0:00:00.155959\n",
      "Tempo para recuperar métricas:  0:00:00.011008\n",
      " \n",
      "Nome modelo: TFIDF_SVM\n",
      "Quantidade de elementos de treinamento: 712\n",
      "Tempo de treinamento: 0:00:00.746663\n",
      "Feature Type: TFIDF\n",
      "Accuracy: 0.5307262569832403\n",
      "Balanced Accuracy: 0.5323063877897117\n",
      "macro_precision 0.5283216960129528 \n",
      "macro_recall    0.5323063877897117 \n",
      "macro_fscore    0.5292641309747511\n",
      "micro_precision 0.527678138345324 \n",
      "micro_recall    0.5307262569832403 \n",
      "micro_fscore    0.5281530146348951\n"
     ],
     "output_type": "stream"
    },
    {
     "name": "stderr",
     "text": [
      "[Parallel(n_jobs=3)]: Using backend LokyBackend with 3 concurrent workers.\n",
      "[Parallel(n_jobs=3)]: Done  10 out of  10 | elapsed:    5.5s finished\n",
      "/home/anarocha/anaconda3/envs/envppca/lib/python3.7/site-packages/sklearn/model_selection/_search.py:813: DeprecationWarning: The default of the `iid` parameter will change from True to False in version 0.22 and will be removed in 0.24. This will change numeric results when test-set sizes are unequal.\n",
      "  DeprecationWarning)\n"
     ],
     "output_type": "stream"
    }
   ],
   "source": [
    "param_grid_SVM = {\n",
    "    'estimator__n_estimators': [3, 5],\n",
    "    'estimator__max_samples': [0.8, 0.5],\n",
    "    'estimator__base_estimator__base_estimator__C': [0.01, 0.1, 1, 10]\n",
    "}\n",
    "modeloSVM = func.chama_treinamento_modelo(x_tfidf_train,y_train, x_tfidf_test,y_test, classificadorSVM, nomeAlgoritmoSVM,'TFIDF',param_grid_SVM, numero_de_configuracoes_por_modelo,n_cores_grande,id_execucao ,data,path_resultados,df_resultados,nome_arquivo_destino,X_test)\n",
    "modelos.append([modeloSVM.getNome(),modeloSVM.getFeatureType(),modeloSVM.getMicroPrecision(),modeloSVM])"
   ]
  },
  {
   "cell_type": "markdown",
   "metadata": {},
   "source": [
    "#### Random Forest (RF)"
   ]
  },
  {
   "cell_type": "code",
   "execution_count": 26,
   "metadata": {
    "pycharm": {
     "is_executing": false
    }
   },
   "outputs": [
    {
     "name": "stdout",
     "text": [
      ">> Fazendo Grid Search para classificador Random Forest\n",
      "Fitting 5 folds for each of 2 candidates, totalling 10 fits\n",
      "Tempo para execução do GridSearch para OVR Balanced Bagging Random Forest para 712 elementos:  0:00:36.034927\n",
      ">> Testando classificador TFIDF_Random Forest\n",
      "Tempo para fazer a predicao de  179 elementos:  0:00:01.665103\n",
      "Tempo para recuperar métricas:  0:00:00.010965\n",
      " \n",
      "Nome modelo: TFIDF_Random Forest\n",
      "Quantidade de elementos de treinamento: 712\n",
      "Tempo de treinamento: 0:00:08.830328\n",
      "Feature Type: TFIDF\n",
      "Accuracy: 0.5698324022346368\n",
      "Balanced Accuracy: 0.5716066829972992\n",
      "macro_precision 0.5736793311893718 \n",
      "macro_recall    0.5716066829972992 \n",
      "macro_fscore    0.5671145355243238\n",
      "micro_precision 0.5736389096324579 \n",
      "micro_recall    0.5698324022346368 \n",
      "micro_fscore    0.5662683873227097\n"
     ],
     "output_type": "stream"
    },
    {
     "name": "stderr",
     "text": [
      "[Parallel(n_jobs=3)]: Using backend LokyBackend with 3 concurrent workers.\n",
      "[Parallel(n_jobs=3)]: Done  10 out of  10 | elapsed:   27.2s finished\n"
     ],
     "output_type": "stream"
    }
   ],
   "source": [
    "param_grid_RF = {\n",
    "    'estimator__n_estimators': [3,5],\n",
    "    'estimator__max_samples': [0.8,0.5],\n",
    "    'estimator__base_estimator__max_depth': [30,50,100],\n",
    "    'estimator__base_estimator__n_estimators': [100,200,300],\n",
    "    'estimator__base_estimator__min_samples_leaf': [0.05, 0.1, 0.5],\n",
    "    'estimator__base_estimator__min_samples_split': [0.05, 0.1, 0.5],\n",
    "    'estimator__base_estimator__max_features': [0.3, 0.5, 0.8]\n",
    "}\n",
    "modeloRF = func.chama_treinamento_modelo(x_tfidf_train,y_train, x_tfidf_test,y_test, classificadorRF, nomeAlgoritmoRF,'TFIDF',param_grid_RF, numero_de_configuracoes_por_modelo,n_cores_grande,id_execucao ,data,path_resultados,df_resultados,nome_arquivo_destino,X_test)\n",
    "modelos.append([modeloRF.getNome(),modeloRF.getFeatureType(),modeloRF.getMicroPrecision(),modeloRF])"
   ]
  },
  {
   "cell_type": "markdown",
   "metadata": {},
   "source": [
    "#### Multi-layer Perceptron"
   ]
  },
  {
   "cell_type": "code",
   "execution_count": 27,
   "metadata": {
    "pycharm": {
     "is_executing": false
    }
   },
   "outputs": [
    {
     "name": "stdout",
     "text": [
      ">> Fazendo Grid Search para classificador Multi-Layer Perceptron\n",
      "Fitting 5 folds for each of 2 candidates, totalling 10 fits\n",
      "[CV] estimator__n_estimators=3, estimator__max_samples=0.8, estimator__base_estimator__solver=lbfgs, estimator__base_estimator__max_iter=300, estimator__base_estimator__learning_rate=invscaling, estimator__base_estimator__hidden_layer_sizes=(10, 10), estimator__base_estimator__alpha=0.001, estimator__base_estimator__activation=relu \n",
      "[CV]  estimator__n_estimators=3, estimator__max_samples=0.8, estimator__base_estimator__solver=lbfgs, estimator__base_estimator__max_iter=300, estimator__base_estimator__learning_rate=invscaling, estimator__base_estimator__hidden_layer_sizes=(10, 10), estimator__base_estimator__alpha=0.001, estimator__base_estimator__activation=relu, total=  18.2s\n",
      "[CV] estimator__n_estimators=3, estimator__max_samples=0.8, estimator__base_estimator__solver=lbfgs, estimator__base_estimator__max_iter=300, estimator__base_estimator__learning_rate=invscaling, estimator__base_estimator__hidden_layer_sizes=(10, 10), estimator__base_estimator__alpha=0.001, estimator__base_estimator__activation=relu \n",
      "[CV]  estimator__n_estimators=3, estimator__max_samples=0.8, estimator__base_estimator__solver=lbfgs, estimator__base_estimator__max_iter=300, estimator__base_estimator__learning_rate=invscaling, estimator__base_estimator__hidden_layer_sizes=(10, 10), estimator__base_estimator__alpha=0.001, estimator__base_estimator__activation=relu, total=  16.4s\n",
      "[CV] estimator__n_estimators=3, estimator__max_samples=0.8, estimator__base_estimator__solver=lbfgs, estimator__base_estimator__max_iter=300, estimator__base_estimator__learning_rate=invscaling, estimator__base_estimator__hidden_layer_sizes=(10, 10), estimator__base_estimator__alpha=0.001, estimator__base_estimator__activation=relu \n",
      "[CV]  estimator__n_estimators=3, estimator__max_samples=0.8, estimator__base_estimator__solver=lbfgs, estimator__base_estimator__max_iter=300, estimator__base_estimator__learning_rate=invscaling, estimator__base_estimator__hidden_layer_sizes=(10, 10), estimator__base_estimator__alpha=0.001, estimator__base_estimator__activation=relu, total=  18.4s\n",
      "[CV] estimator__n_estimators=3, estimator__max_samples=0.8, estimator__base_estimator__solver=lbfgs, estimator__base_estimator__max_iter=300, estimator__base_estimator__learning_rate=invscaling, estimator__base_estimator__hidden_layer_sizes=(10, 10), estimator__base_estimator__alpha=0.001, estimator__base_estimator__activation=relu \n",
      "[CV]  estimator__n_estimators=3, estimator__max_samples=0.8, estimator__base_estimator__solver=lbfgs, estimator__base_estimator__max_iter=300, estimator__base_estimator__learning_rate=invscaling, estimator__base_estimator__hidden_layer_sizes=(10, 10), estimator__base_estimator__alpha=0.001, estimator__base_estimator__activation=relu, total=  13.9s\n",
      "[CV] estimator__n_estimators=3, estimator__max_samples=0.8, estimator__base_estimator__solver=lbfgs, estimator__base_estimator__max_iter=300, estimator__base_estimator__learning_rate=invscaling, estimator__base_estimator__hidden_layer_sizes=(10, 10), estimator__base_estimator__alpha=0.001, estimator__base_estimator__activation=relu \n",
      "[CV]  estimator__n_estimators=3, estimator__max_samples=0.8, estimator__base_estimator__solver=lbfgs, estimator__base_estimator__max_iter=300, estimator__base_estimator__learning_rate=invscaling, estimator__base_estimator__hidden_layer_sizes=(10, 10), estimator__base_estimator__alpha=0.001, estimator__base_estimator__activation=relu, total=  14.6s\n",
      "[CV] estimator__n_estimators=3, estimator__max_samples=0.8, estimator__base_estimator__solver=sgd, estimator__base_estimator__max_iter=200, estimator__base_estimator__learning_rate=adaptive, estimator__base_estimator__hidden_layer_sizes=(10, 5, 10), estimator__base_estimator__alpha=0.001, estimator__base_estimator__activation=relu \n",
      "[CV]  estimator__n_estimators=3, estimator__max_samples=0.8, estimator__base_estimator__solver=sgd, estimator__base_estimator__max_iter=200, estimator__base_estimator__learning_rate=adaptive, estimator__base_estimator__hidden_layer_sizes=(10, 5, 10), estimator__base_estimator__alpha=0.001, estimator__base_estimator__activation=relu, total=  12.7s\n",
      "[CV] estimator__n_estimators=3, estimator__max_samples=0.8, estimator__base_estimator__solver=sgd, estimator__base_estimator__max_iter=200, estimator__base_estimator__learning_rate=adaptive, estimator__base_estimator__hidden_layer_sizes=(10, 5, 10), estimator__base_estimator__alpha=0.001, estimator__base_estimator__activation=relu \n",
      "[CV]  estimator__n_estimators=3, estimator__max_samples=0.8, estimator__base_estimator__solver=sgd, estimator__base_estimator__max_iter=200, estimator__base_estimator__learning_rate=adaptive, estimator__base_estimator__hidden_layer_sizes=(10, 5, 10), estimator__base_estimator__alpha=0.001, estimator__base_estimator__activation=relu, total=  11.6s\n",
      "[CV] estimator__n_estimators=3, estimator__max_samples=0.8, estimator__base_estimator__solver=sgd, estimator__base_estimator__max_iter=200, estimator__base_estimator__learning_rate=adaptive, estimator__base_estimator__hidden_layer_sizes=(10, 5, 10), estimator__base_estimator__alpha=0.001, estimator__base_estimator__activation=relu \n",
      "[CV]  estimator__n_estimators=3, estimator__max_samples=0.8, estimator__base_estimator__solver=sgd, estimator__base_estimator__max_iter=200, estimator__base_estimator__learning_rate=adaptive, estimator__base_estimator__hidden_layer_sizes=(10, 5, 10), estimator__base_estimator__alpha=0.001, estimator__base_estimator__activation=relu, total=   8.2s\n",
      "[CV] estimator__n_estimators=3, estimator__max_samples=0.8, estimator__base_estimator__solver=sgd, estimator__base_estimator__max_iter=200, estimator__base_estimator__learning_rate=adaptive, estimator__base_estimator__hidden_layer_sizes=(10, 5, 10), estimator__base_estimator__alpha=0.001, estimator__base_estimator__activation=relu \n",
      "[CV]  estimator__n_estimators=3, estimator__max_samples=0.8, estimator__base_estimator__solver=sgd, estimator__base_estimator__max_iter=200, estimator__base_estimator__learning_rate=adaptive, estimator__base_estimator__hidden_layer_sizes=(10, 5, 10), estimator__base_estimator__alpha=0.001, estimator__base_estimator__activation=relu, total=   9.1s\n",
      "[CV] estimator__n_estimators=3, estimator__max_samples=0.8, estimator__base_estimator__solver=sgd, estimator__base_estimator__max_iter=200, estimator__base_estimator__learning_rate=adaptive, estimator__base_estimator__hidden_layer_sizes=(10, 5, 10), estimator__base_estimator__alpha=0.001, estimator__base_estimator__activation=relu \n",
      "[CV]  estimator__n_estimators=3, estimator__max_samples=0.8, estimator__base_estimator__solver=sgd, estimator__base_estimator__max_iter=200, estimator__base_estimator__learning_rate=adaptive, estimator__base_estimator__hidden_layer_sizes=(10, 5, 10), estimator__base_estimator__alpha=0.001, estimator__base_estimator__activation=relu, total=  12.4s\n",
      "Tempo para execução do GridSearch para OVR Balanced Bagging Multi-Layer Perceptron para 712 elementos:  0:02:31.795842\n",
      ">> Testando classificador TFIDF_Multi-Layer Perceptron\n",
      "Tempo para fazer a predicao de  179 elementos:  0:00:00.048632\n",
      "Tempo para recuperar métricas:  0:00:00.008688\n",
      " \n",
      "Nome modelo: TFIDF_Multi-Layer Perceptron\n",
      "Quantidade de elementos de treinamento: 712\n",
      "Tempo de treinamento: 0:00:16.459701\n",
      "Feature Type: TFIDF\n",
      "Accuracy: 0.5754189944134078\n",
      "Balanced Accuracy: 0.5770334777966208\n",
      "macro_precision 0.5771717171717171 \n",
      "macro_recall    0.5770334777966208 \n",
      "macro_fscore    0.5702388425552267\n",
      "micro_precision 0.5766802099204333 \n",
      "micro_recall    0.5754189944134078 \n",
      "micro_fscore    0.5690779041787468\n"
     ],
     "output_type": "stream"
    },
    {
     "name": "stderr",
     "text": [
      "[Parallel(n_jobs=1)]: Using backend SequentialBackend with 1 concurrent workers.\n",
      "[Parallel(n_jobs=1)]: Done   1 out of   1 | elapsed:   18.2s remaining:    0.0s\n",
      "/home/anarocha/anaconda3/envs/envppca/lib/python3.7/site-packages/sklearn/metrics/classification.py:1437: UndefinedMetricWarning: Precision is ill-defined and being set to 0.0 in labels with no predicted samples.\n",
      "  'precision', 'predicted', average, warn_for)\n",
      "/home/anarocha/anaconda3/envs/envppca/lib/python3.7/site-packages/sklearn/metrics/classification.py:1437: UndefinedMetricWarning: Precision is ill-defined and being set to 0.0 in labels with no predicted samples.\n",
      "  'precision', 'predicted', average, warn_for)\n",
      "/home/anarocha/anaconda3/envs/envppca/lib/python3.7/site-packages/sklearn/metrics/classification.py:1437: UndefinedMetricWarning: Precision is ill-defined and being set to 0.0 in labels with no predicted samples.\n",
      "  'precision', 'predicted', average, warn_for)\n",
      "/home/anarocha/anaconda3/envs/envppca/lib/python3.7/site-packages/sklearn/metrics/classification.py:1437: UndefinedMetricWarning: Precision is ill-defined and being set to 0.0 in labels with no predicted samples.\n",
      "  'precision', 'predicted', average, warn_for)\n",
      "/home/anarocha/anaconda3/envs/envppca/lib/python3.7/site-packages/sklearn/metrics/classification.py:1437: UndefinedMetricWarning: Precision is ill-defined and being set to 0.0 in labels with no predicted samples.\n",
      "  'precision', 'predicted', average, warn_for)\n",
      "[Parallel(n_jobs=1)]: Done  10 out of  10 | elapsed:  2.3min finished\n",
      "/home/anarocha/anaconda3/envs/envppca/lib/python3.7/site-packages/sklearn/model_selection/_search.py:813: DeprecationWarning: The default of the `iid` parameter will change from True to False in version 0.22 and will be removed in 0.24. This will change numeric results when test-set sizes are unequal.\n",
      "  DeprecationWarning)\n"
     ],
     "output_type": "stream"
    }
   ],
   "source": [
    "param_grid_MLP = {\n",
    "    'estimator__n_estimators': [3,5],\n",
    "    'estimator__max_samples': [0.8,0.5],\n",
    "    'estimator__base_estimator__hidden_layer_sizes': [(10,10),(10,5,10)],\n",
    "    'estimator__base_estimator__activation': ['identity', 'logistic', 'tanh', 'relu'],\n",
    "    'estimator__base_estimator__solver': ['sgd', 'adam','lbfgs'],\n",
    "    'estimator__base_estimator__alpha': [0.001, 0.01, 0.05, 0.1],\n",
    "    'estimator__base_estimator__learning_rate': ['constant','adaptive','invscaling'],\n",
    "    'estimator__base_estimator__max_iter': [200,300,400]\n",
    "}\n",
    "modeloMLP = func.chama_treinamento_modelo(x_tfidf_train,y_train, x_tfidf_test,y_test, classificadorMLP,nomeAlgoritmoMLP, 'TFIDF',param_grid_MLP, numero_de_configuracoes_por_modelo,n_cores_pequeno,id_execucao ,data,path_resultados,df_resultados,nome_arquivo_destino,X_test)\n",
    "modelos.append([modeloMLP.getNome(),modeloMLP.getFeatureType(),modeloMLP.getMicroPrecision(),modeloMLP])"
   ]
  },
  {
   "cell_type": "markdown",
   "metadata": {},
   "source": [
    "#### Criando dicionarios com a melhor configuração de cada modelo"
   ]
  },
  {
   "cell_type": "code",
   "execution_count": 28,
   "metadata": {
    "pycharm": {
     "is_executing": false
    }
   },
   "outputs": [],
   "source": [
    "#MNB\n",
    "param_grid_melhor_NB = {\n",
    "    'estimator__n_estimators': [modeloNB.getBestParams().get('estimator__n_estimators')],\n",
    "    'estimator__max_samples': [modeloNB.getBestParams().get('estimator__max_samples')],\n",
    "    'estimator__base_estimator__alpha': [modeloNB.getBestParams().get('estimator__base_estimator__alpha')]\n",
    "}\n",
    "\n",
    "# SVM\n",
    "param_grid_melhor_SVM = {\n",
    "    'estimator__n_estimators': [modeloSVM.getBestParams().get('estimator__n_estimators')],\n",
    "    'estimator__max_samples': [modeloSVM.getBestParams().get('estimator__max_samples')],\n",
    "    'estimator__base_estimator__base_estimator__C': [modeloSVM.getBestParams().get('estimator__base_estimator__base_estimator__C')]\n",
    "}\n",
    "\n",
    "# RF\n",
    "param_grid_melhor_RF = {\n",
    "    'estimator__n_estimators': [modeloRF.getBestParams().get('estimator__n_estimators')],\n",
    "    'estimator__max_samples': [modeloRF.getBestParams().get('estimator__max_samples')],\n",
    "    'estimator__base_estimator__max_depth': [modeloRF.getBestParams().get('estimator__base_estimator__max_depth')],\n",
    "    'estimator__base_estimator__n_estimators': [modeloRF.getBestParams().get('estimator__base_estimator__n_estimators')],\n",
    "    'estimator__base_estimator__min_samples_leaf': [modeloRF.getBestParams().get('estimator__base_estimator__min_samples_leaf')],\n",
    "    'estimator__base_estimator__min_samples_split': [modeloRF.getBestParams().get('estimator__base_estimator__min_samples_split')],\n",
    "    'estimator__base_estimator__max_features': [modeloRF.getBestParams().get('estimator__base_estimator__max_features')]\n",
    "}\n",
    "\n",
    "# MLP\n",
    "param_grid_melhor_MLP = {\n",
    "    'estimator__n_estimators': [modeloMLP.getBestParams().get('estimator__n_estimators')],\n",
    "    'estimator__max_samples': [modeloMLP.getBestParams().get('estimator__max_samples')],\n",
    "    'estimator__base_estimator__hidden_layer_sizes': [modeloMLP.getBestParams().get('estimator__base_estimator__hidden_layer_sizes')],\n",
    "    'estimator__base_estimator__activation': [modeloMLP.getBestParams().get('estimator__base_estimator__activation')],\n",
    "    'estimator__base_estimator__solver': [modeloMLP.getBestParams().get('estimator__base_estimator__solver')],\n",
    "    'estimator__base_estimator__alpha': [modeloMLP.getBestParams().get('estimator__base_estimator__alpha')],\n",
    "    'estimator__base_estimator__learning_rate': [modeloMLP.getBestParams().get('estimator__base_estimator__learning_rate')],\n",
    "    'estimator__base_estimator__max_iter': [modeloMLP.getBestParams().get('estimator__base_estimator__max_iter')]\n",
    "}\n"
   ]
  },
  {
   "cell_type": "markdown",
   "metadata": {},
   "source": [
    "#### BM25"
   ]
  },
  {
   "cell_type": "code",
   "execution_count": 29,
   "metadata": {
    "pycharm": {
     "is_executing": false
    }
   },
   "outputs": [
    {
     "name": "stdout",
     "text": [
      ">> Fazendo Grid Search para classificador Multinomial Naive Bayes\n",
      "Fitting 5 folds for each of 1 candidates, totalling 5 fits\n",
      "Tempo para execução do GridSearch para OVR Balanced Bagging Multinomial Naive Bayes para 712 elementos:  0:00:00.413208\n",
      ">> Testando classificador BM25_Multinomial Naive Bayes\n",
      "Tempo para fazer a predicao de  179 elementos:  0:00:00.072386\n",
      "Tempo para recuperar métricas:  0:00:00.017164\n",
      " \n",
      "Nome modelo: BM25_Multinomial Naive Bayes\n",
      "Quantidade de elementos de treinamento: 712\n",
      "Tempo de treinamento: 0:00:00.114066\n",
      "Feature Type: BM25\n",
      "Accuracy: 0.5363128491620112\n",
      "Balanced Accuracy: 0.5383078952327115\n",
      "macro_precision 0.5283235581622678 \n",
      "macro_recall    0.5383078952327115 \n",
      "macro_fscore    0.5242365477423655\n",
      "micro_precision 0.5276212749225905 \n",
      "micro_recall    0.5363128491620112 \n",
      "micro_fscore    0.5227494388308463\n",
      ">> Fazendo Grid Search para classificador SVM\n",
      "Fitting 5 folds for each of 1 candidates, totalling 5 fits\n",
      "Tempo para execução do GridSearch para OVR Balanced Bagging SVM para 712 elementos:  0:00:04.808151\n",
      ">> Testando classificador BM25_SVM\n",
      "Tempo para fazer a predicao de  179 elementos:  0:00:00.078866\n",
      "Tempo para recuperar métricas:  0:00:00.006486\n",
      " \n",
      "Nome modelo: BM25_SVM\n",
      "Quantidade de elementos de treinamento: 712\n",
      "Tempo de treinamento: 0:00:01.457695\n",
      "Feature Type: BM25\n",
      "Accuracy: 0.547486033519553\n",
      "Balanced Accuracy: 0.549255700018843\n",
      "macro_precision 0.5454239220563847 \n",
      "macro_recall    0.549255700018843 \n",
      "macro_fscore    0.5440673690792411\n",
      "micro_precision 0.5449211692931989 \n",
      "micro_recall    0.547486033519553 \n",
      "micro_fscore    0.542892331153605\n",
      ">> Fazendo Grid Search para classificador Random Forest\n",
      "Fitting 5 folds for each of 1 candidates, totalling 5 fits\n",
      "Tempo para execução do GridSearch para OVR Balanced Bagging Random Forest para 712 elementos:  0:00:30.552605\n",
      ">> Testando classificador BM25_Random Forest\n",
      "Tempo para fazer a predicao de  179 elementos:  0:00:01.460871\n",
      "Tempo para recuperar métricas:  0:00:00.007707\n",
      " \n",
      "Nome modelo: BM25_Random Forest\n",
      "Quantidade de elementos de treinamento: 712\n",
      "Tempo de treinamento: 0:00:10.333253\n",
      "Feature Type: BM25\n",
      "Accuracy: 0.5586592178770949\n",
      "Balanced Accuracy: 0.5606777212486653\n",
      "macro_precision 0.5640697488401855 \n",
      "macro_recall    0.5606777212486653 \n",
      "macro_fscore    0.5556056286981103\n",
      "micro_precision 0.5641861547962382 \n",
      "micro_recall    0.5586592178770949 \n",
      "micro_fscore    0.5547371680528794\n",
      ">> Fazendo Grid Search para classificador Multi-Layer Perceptron\n",
      "Fitting 5 folds for each of 1 candidates, totalling 5 fits\n",
      "[CV] estimator__n_estimators=3, estimator__max_samples=0.8, estimator__base_estimator__solver=lbfgs, estimator__base_estimator__max_iter=300, estimator__base_estimator__learning_rate=invscaling, estimator__base_estimator__hidden_layer_sizes=(10, 10), estimator__base_estimator__alpha=0.001, estimator__base_estimator__activation=relu \n",
      "[CV]  estimator__n_estimators=3, estimator__max_samples=0.8, estimator__base_estimator__solver=lbfgs, estimator__base_estimator__max_iter=300, estimator__base_estimator__learning_rate=invscaling, estimator__base_estimator__hidden_layer_sizes=(10, 10), estimator__base_estimator__alpha=0.001, estimator__base_estimator__activation=relu, total=   8.6s\n",
      "[CV] estimator__n_estimators=3, estimator__max_samples=0.8, estimator__base_estimator__solver=lbfgs, estimator__base_estimator__max_iter=300, estimator__base_estimator__learning_rate=invscaling, estimator__base_estimator__hidden_layer_sizes=(10, 10), estimator__base_estimator__alpha=0.001, estimator__base_estimator__activation=relu \n",
      "[CV]  estimator__n_estimators=3, estimator__max_samples=0.8, estimator__base_estimator__solver=lbfgs, estimator__base_estimator__max_iter=300, estimator__base_estimator__learning_rate=invscaling, estimator__base_estimator__hidden_layer_sizes=(10, 10), estimator__base_estimator__alpha=0.001, estimator__base_estimator__activation=relu, total=   7.4s\n",
      "[CV] estimator__n_estimators=3, estimator__max_samples=0.8, estimator__base_estimator__solver=lbfgs, estimator__base_estimator__max_iter=300, estimator__base_estimator__learning_rate=invscaling, estimator__base_estimator__hidden_layer_sizes=(10, 10), estimator__base_estimator__alpha=0.001, estimator__base_estimator__activation=relu \n",
      "[CV]  estimator__n_estimators=3, estimator__max_samples=0.8, estimator__base_estimator__solver=lbfgs, estimator__base_estimator__max_iter=300, estimator__base_estimator__learning_rate=invscaling, estimator__base_estimator__hidden_layer_sizes=(10, 10), estimator__base_estimator__alpha=0.001, estimator__base_estimator__activation=relu, total=   7.1s\n",
      "[CV] estimator__n_estimators=3, estimator__max_samples=0.8, estimator__base_estimator__solver=lbfgs, estimator__base_estimator__max_iter=300, estimator__base_estimator__learning_rate=invscaling, estimator__base_estimator__hidden_layer_sizes=(10, 10), estimator__base_estimator__alpha=0.001, estimator__base_estimator__activation=relu \n",
      "[CV]  estimator__n_estimators=3, estimator__max_samples=0.8, estimator__base_estimator__solver=lbfgs, estimator__base_estimator__max_iter=300, estimator__base_estimator__learning_rate=invscaling, estimator__base_estimator__hidden_layer_sizes=(10, 10), estimator__base_estimator__alpha=0.001, estimator__base_estimator__activation=relu, total=   7.8s\n",
      "[CV] estimator__n_estimators=3, estimator__max_samples=0.8, estimator__base_estimator__solver=lbfgs, estimator__base_estimator__max_iter=300, estimator__base_estimator__learning_rate=invscaling, estimator__base_estimator__hidden_layer_sizes=(10, 10), estimator__base_estimator__alpha=0.001, estimator__base_estimator__activation=relu \n",
      "[CV]  estimator__n_estimators=3, estimator__max_samples=0.8, estimator__base_estimator__solver=lbfgs, estimator__base_estimator__max_iter=300, estimator__base_estimator__learning_rate=invscaling, estimator__base_estimator__hidden_layer_sizes=(10, 10), estimator__base_estimator__alpha=0.001, estimator__base_estimator__activation=relu, total=   7.7s\n",
      "Tempo para execução do GridSearch para OVR Balanced Bagging Multi-Layer Perceptron para 712 elementos:  0:00:47.615296\n",
      ">> Testando classificador BM25_Multi-Layer Perceptron\n",
      "Tempo para fazer a predicao de  179 elementos:  0:00:00.051241\n",
      "Tempo para recuperar métricas:  0:00:00.008020\n",
      " \n",
      "Nome modelo: BM25_Multi-Layer Perceptron\n",
      "Quantidade de elementos de treinamento: 712\n",
      "Tempo de treinamento: 0:00:08.975149\n",
      "Feature Type: BM25\n",
      "Accuracy: 0.5754189944134078\n",
      "Balanced Accuracy: 0.5761949626279756\n",
      "macro_precision 0.5747679549604382 \n",
      "macro_recall    0.5761949626279756 \n",
      "macro_fscore    0.5741841162044897\n",
      "micro_precision 0.5748337283277287 \n",
      "micro_recall    0.5754189944134078 \n",
      "micro_fscore    0.5738144694950569\n"
     ],
     "output_type": "stream"
    },
    {
     "name": "stderr",
     "text": [
      "[Parallel(n_jobs=3)]: Using backend LokyBackend with 3 concurrent workers.\n",
      "[Parallel(n_jobs=3)]: Done   3 out of   5 | elapsed:    0.2s remaining:    0.1s\n",
      "[Parallel(n_jobs=3)]: Done   5 out of   5 | elapsed:    0.3s finished\n",
      "[Parallel(n_jobs=3)]: Using backend LokyBackend with 3 concurrent workers.\n",
      "[Parallel(n_jobs=3)]: Done   3 out of   5 | elapsed:    1.9s remaining:    1.3s\n",
      "[Parallel(n_jobs=3)]: Done   5 out of   5 | elapsed:    3.3s finished\n",
      "/home/anarocha/anaconda3/envs/envppca/lib/python3.7/site-packages/sklearn/model_selection/_search.py:813: DeprecationWarning: The default of the `iid` parameter will change from True to False in version 0.22 and will be removed in 0.24. This will change numeric results when test-set sizes are unequal.\n",
      "  DeprecationWarning)\n",
      "[Parallel(n_jobs=3)]: Using backend LokyBackend with 3 concurrent workers.\n",
      "[Parallel(n_jobs=3)]: Done   3 out of   5 | elapsed:   10.7s remaining:    7.2s\n",
      "[Parallel(n_jobs=3)]: Done   5 out of   5 | elapsed:   20.2s finished\n",
      "[Parallel(n_jobs=1)]: Using backend SequentialBackend with 1 concurrent workers.\n",
      "[Parallel(n_jobs=1)]: Done   1 out of   1 | elapsed:    8.6s remaining:    0.0s\n",
      "[Parallel(n_jobs=1)]: Done   5 out of   5 | elapsed:   38.6s finished\n"
     ],
     "output_type": "stream"
    }
   ],
   "source": [
    "modeloNB_BM25 = func.chama_treinamento_modelo(x_bm25_train,y_train, x_bm25_test,y_test, classificadorNB, nomeAlgoritmoNB,'BM25',param_grid_melhor_NB, 1,n_cores_grande,id_execucao ,data,path_resultados,df_resultados,nome_arquivo_destino,X_test)\n",
    "modelos.append([modeloNB_BM25.getNome(),modeloNB_BM25.getFeatureType(),modeloNB_BM25.getMicroPrecision(),modeloNB_BM25])\n",
    "\n",
    "modeloSVM_BM25 = func.chama_treinamento_modelo(x_bm25_train,y_train, x_bm25_test,y_test, classificadorSVM, nomeAlgoritmoSVM,'BM25',param_grid_melhor_SVM, 1,n_cores_grande,id_execucao ,data,path_resultados,df_resultados,nome_arquivo_destino,X_test)\n",
    "modelos.append([modeloSVM_BM25.getNome(),modeloSVM_BM25.getFeatureType(),modeloSVM_BM25.getMicroPrecision(),modeloSVM_BM25])\n",
    "\n",
    "modeloRF_BM25 = func.chama_treinamento_modelo(x_bm25_train,y_train, x_bm25_test,y_test, classificadorRF, nomeAlgoritmoRF,'BM25',param_grid_melhor_RF, 1,n_cores_grande,id_execucao ,data,path_resultados,df_resultados,nome_arquivo_destino,X_test)\n",
    "modelos.append([modeloRF_BM25.getNome(),modeloRF_BM25.getFeatureType(),modeloRF_BM25.getMicroPrecision(),modeloRF_BM25])\n",
    "\n",
    "modeloMLP_BM25 = func.chama_treinamento_modelo(x_bm25_train,y_train, x_bm25_test,y_test, classificadorMLP, nomeAlgoritmoMLP,'BM25',param_grid_melhor_MLP, 1,n_cores_pequeno,id_execucao ,data,path_resultados,df_resultados,nome_arquivo_destino,X_test)\n",
    "modelos.append([modeloMLP_BM25.getNome(),modeloMLP_BM25.getFeatureType(),modeloMLP_BM25.getMicroPrecision(),modeloMLP_BM25])\n",
    "\n"
   ]
  },
  {
   "cell_type": "markdown",
   "metadata": {},
   "source": [
    "#### LSI 100"
   ]
  },
  {
   "cell_type": "code",
   "execution_count": 30,
   "metadata": {
    "pycharm": {
     "is_executing": false
    }
   },
   "outputs": [
    {
     "name": "stdout",
     "text": [
      ">> Fazendo Grid Search para classificador SVM\n",
      "Fitting 5 folds for each of 1 candidates, totalling 5 fits\n",
      "Tempo para execução do GridSearch para OVR Balanced Bagging SVM para 712 elementos:  0:00:01.534390\n",
      ">> Testando classificador LSI100_SVM\n",
      "Tempo para fazer a predicao de  179 elementos:  0:00:00.091161\n",
      "Tempo para recuperar métricas:  0:00:00.038974\n",
      " \n",
      "Nome modelo: LSI100_SVM\n",
      "Quantidade de elementos de treinamento: 712\n",
      "Tempo de treinamento: 0:00:00.409626\n",
      "Feature Type: LSI100\n",
      "Accuracy: 0.553072625698324\n",
      "Balanced Accuracy: 0.5545286100119339\n",
      "macro_precision 0.5503517144883369 \n",
      "macro_recall    0.5545286100119339 \n",
      "macro_fscore    0.5505291005291005\n",
      "micro_precision 0.5497867162396012 \n",
      "micro_recall    0.553072625698324 \n",
      "micro_fscore    0.5494945464219207\n",
      ">> Fazendo Grid Search para classificador Random Forest\n",
      "Fitting 5 folds for each of 1 candidates, totalling 5 fits\n",
      "Tempo para execução do GridSearch para OVR Balanced Bagging Random Forest para 712 elementos:  0:00:10.602722\n",
      ">> Testando classificador LSI100_Random Forest\n",
      "Tempo para fazer a predicao de  179 elementos:  0:00:00.257999\n",
      "Tempo para recuperar métricas:  0:00:00.008202\n",
      " \n",
      "Nome modelo: LSI100_Random Forest\n",
      "Quantidade de elementos de treinamento: 712\n",
      "Tempo de treinamento: 0:00:03.066634\n",
      "Feature Type: LSI100\n",
      "Accuracy: 0.5363128491620112\n",
      "Balanced Accuracy: 0.5380629357452421\n",
      "macro_precision 0.537950352554815 \n",
      "macro_recall    0.5380629357452421 \n",
      "macro_fscore    0.5349595919448861\n",
      "micro_precision 0.5375871943845926 \n",
      "micro_recall    0.5363128491620112 \n",
      "micro_fscore    0.533943099359629\n",
      ">> Fazendo Grid Search para classificador Multi-Layer Perceptron\n",
      "Fitting 5 folds for each of 1 candidates, totalling 5 fits\n",
      "[CV] estimator__n_estimators=3, estimator__max_samples=0.8, estimator__base_estimator__solver=lbfgs, estimator__base_estimator__max_iter=300, estimator__base_estimator__learning_rate=invscaling, estimator__base_estimator__hidden_layer_sizes=(10, 10), estimator__base_estimator__alpha=0.001, estimator__base_estimator__activation=relu \n",
      "[CV]  estimator__n_estimators=3, estimator__max_samples=0.8, estimator__base_estimator__solver=lbfgs, estimator__base_estimator__max_iter=300, estimator__base_estimator__learning_rate=invscaling, estimator__base_estimator__hidden_layer_sizes=(10, 10), estimator__base_estimator__alpha=0.001, estimator__base_estimator__activation=relu, total=   2.9s\n",
      "[CV] estimator__n_estimators=3, estimator__max_samples=0.8, estimator__base_estimator__solver=lbfgs, estimator__base_estimator__max_iter=300, estimator__base_estimator__learning_rate=invscaling, estimator__base_estimator__hidden_layer_sizes=(10, 10), estimator__base_estimator__alpha=0.001, estimator__base_estimator__activation=relu \n",
      "[CV]  estimator__n_estimators=3, estimator__max_samples=0.8, estimator__base_estimator__solver=lbfgs, estimator__base_estimator__max_iter=300, estimator__base_estimator__learning_rate=invscaling, estimator__base_estimator__hidden_layer_sizes=(10, 10), estimator__base_estimator__alpha=0.001, estimator__base_estimator__activation=relu, total=   3.3s\n",
      "[CV] estimator__n_estimators=3, estimator__max_samples=0.8, estimator__base_estimator__solver=lbfgs, estimator__base_estimator__max_iter=300, estimator__base_estimator__learning_rate=invscaling, estimator__base_estimator__hidden_layer_sizes=(10, 10), estimator__base_estimator__alpha=0.001, estimator__base_estimator__activation=relu \n",
      "[CV]  estimator__n_estimators=3, estimator__max_samples=0.8, estimator__base_estimator__solver=lbfgs, estimator__base_estimator__max_iter=300, estimator__base_estimator__learning_rate=invscaling, estimator__base_estimator__hidden_layer_sizes=(10, 10), estimator__base_estimator__alpha=0.001, estimator__base_estimator__activation=relu, total=   2.1s\n",
      "[CV] estimator__n_estimators=3, estimator__max_samples=0.8, estimator__base_estimator__solver=lbfgs, estimator__base_estimator__max_iter=300, estimator__base_estimator__learning_rate=invscaling, estimator__base_estimator__hidden_layer_sizes=(10, 10), estimator__base_estimator__alpha=0.001, estimator__base_estimator__activation=relu \n",
      "[CV]  estimator__n_estimators=3, estimator__max_samples=0.8, estimator__base_estimator__solver=lbfgs, estimator__base_estimator__max_iter=300, estimator__base_estimator__learning_rate=invscaling, estimator__base_estimator__hidden_layer_sizes=(10, 10), estimator__base_estimator__alpha=0.001, estimator__base_estimator__activation=relu, total=   1.9s\n",
      "[CV] estimator__n_estimators=3, estimator__max_samples=0.8, estimator__base_estimator__solver=lbfgs, estimator__base_estimator__max_iter=300, estimator__base_estimator__learning_rate=invscaling, estimator__base_estimator__hidden_layer_sizes=(10, 10), estimator__base_estimator__alpha=0.001, estimator__base_estimator__activation=relu \n",
      "[CV]  estimator__n_estimators=3, estimator__max_samples=0.8, estimator__base_estimator__solver=lbfgs, estimator__base_estimator__max_iter=300, estimator__base_estimator__learning_rate=invscaling, estimator__base_estimator__hidden_layer_sizes=(10, 10), estimator__base_estimator__alpha=0.001, estimator__base_estimator__activation=relu, total=   2.1s\n",
      "Tempo para execução do GridSearch para OVR Balanced Bagging Multi-Layer Perceptron para 712 elementos:  0:00:14.319778\n",
      ">> Testando classificador LSI100_Multi-Layer Perceptron\n",
      "Tempo para fazer a predicao de  179 elementos:  0:00:00.006467\n",
      "Tempo para recuperar métricas:  0:00:00.007035\n",
      " \n",
      "Nome modelo: LSI100_Multi-Layer Perceptron\n",
      "Quantidade de elementos de treinamento: 712\n",
      "Tempo de treinamento: 0:00:02.055586\n",
      "Feature Type: LSI100\n",
      "Accuracy: 0.5307262569832403\n",
      "Balanced Accuracy: 0.5322875447522141\n",
      "macro_precision 0.5275445573722197 \n",
      "macro_recall    0.5322875447522141 \n",
      "macro_fscore    0.5240601503759399\n",
      "micro_precision 0.5271577996282188 \n",
      "micro_recall    0.5307262569832403 \n",
      "micro_fscore    0.5229974377283992\n"
     ],
     "output_type": "stream"
    },
    {
     "name": "stderr",
     "text": [
      "[Parallel(n_jobs=3)]: Using backend LokyBackend with 3 concurrent workers.\n",
      "[Parallel(n_jobs=3)]: Done   3 out of   5 | elapsed:    0.7s remaining:    0.5s\n",
      "[Parallel(n_jobs=3)]: Done   5 out of   5 | elapsed:    1.1s finished\n",
      "[Parallel(n_jobs=3)]: Using backend LokyBackend with 3 concurrent workers.\n",
      "[Parallel(n_jobs=3)]: Done   3 out of   5 | elapsed:    4.1s remaining:    2.7s\n",
      "[Parallel(n_jobs=3)]: Done   5 out of   5 | elapsed:    7.5s finished\n",
      "[Parallel(n_jobs=1)]: Using backend SequentialBackend with 1 concurrent workers.\n",
      "[Parallel(n_jobs=1)]: Done   1 out of   1 | elapsed:    2.9s remaining:    0.0s\n",
      "[Parallel(n_jobs=1)]: Done   5 out of   5 | elapsed:   12.3s finished\n"
     ],
     "output_type": "stream"
    }
   ],
   "source": [
    "modeloSVM_LSI100 = func.chama_treinamento_modelo(x_lsi100_train,y_train, x_lsi100_test ,y_test, classificadorSVM,nomeAlgoritmoSVM, 'LSI100',param_grid_melhor_SVM, 1,n_cores_grande,id_execucao ,data,path_resultados,df_resultados,nome_arquivo_destino,X_test)\n",
    "modelos.append([modeloSVM_LSI100.getNome(),modeloSVM_LSI100.getFeatureType(),modeloSVM_LSI100.getMicroPrecision(),modeloSVM_LSI100])\n",
    "\n",
    "modeloRF_LSI100 = func.chama_treinamento_modelo(x_lsi100_train, y_train,x_lsi100_test ,y_test, classificadorRF,nomeAlgoritmoRF, 'LSI100',param_grid_melhor_RF, 1,n_cores_grande,id_execucao ,data,path_resultados,df_resultados,nome_arquivo_destino,X_test)\n",
    "modelos.append([modeloRF_LSI100.getNome(),modeloRF_LSI100.getFeatureType(),modeloRF_LSI100.getMicroPrecision(),modeloRF_LSI100])\n",
    "\n",
    "modeloMLP_LSI100 = func.chama_treinamento_modelo(x_lsi100_train,y_train, x_lsi100_test ,y_test, classificadorMLP, nomeAlgoritmoMLP,'LSI100',param_grid_melhor_MLP, 1,n_cores_pequeno,id_execucao ,data,path_resultados,df_resultados,nome_arquivo_destino,X_test)\n",
    "modelos.append([modeloMLP_LSI100.getNome(),modeloMLP_LSI100.getFeatureType(),modeloMLP_LSI100.getMicroPrecision(),modeloMLP_LSI100])\n"
   ]
  },
  {
   "cell_type": "markdown",
   "metadata": {},
   "source": [
    "#### LSI 250"
   ]
  },
  {
   "cell_type": "code",
   "execution_count": 31,
   "metadata": {
    "pycharm": {
     "is_executing": false
    }
   },
   "outputs": [
    {
     "name": "stdout",
     "text": [
      ">> Fazendo Grid Search para classificador SVM\n",
      "Fitting 5 folds for each of 1 candidates, totalling 5 fits\n",
      "Tempo para execução do GridSearch para OVR Balanced Bagging SVM para 712 elementos:  0:00:01.785307\n",
      ">> Testando classificador LSI250_SVM\n",
      "Tempo para fazer a predicao de  179 elementos:  0:00:00.038621\n",
      "Tempo para recuperar métricas:  0:00:00.006254\n",
      " \n",
      "Nome modelo: LSI250_SVM\n",
      "Quantidade de elementos de treinamento: 712\n",
      "Tempo de treinamento: 0:00:00.446137\n",
      "Feature Type: LSI250\n",
      "Accuracy: 0.547486033519553\n",
      "Balanced Accuracy: 0.5488819797751398\n",
      "macro_precision 0.5454833637654697 \n",
      "macro_recall    0.5488819797751398 \n",
      "macro_fscore    0.5458728789186081\n",
      "micro_precision 0.5450918404471994 \n",
      "micro_recall    0.547486033519553 \n",
      "micro_fscore    0.5449747181397949\n",
      ">> Fazendo Grid Search para classificador Random Forest\n",
      "Fitting 5 folds for each of 1 candidates, totalling 5 fits\n",
      "Tempo para execução do GridSearch para OVR Balanced Bagging Random Forest para 712 elementos:  0:00:14.244062\n",
      ">> Testando classificador LSI250_Random Forest\n",
      "Tempo para fazer a predicao de  179 elementos:  0:00:00.228386\n",
      "Tempo para recuperar métricas:  0:00:00.007421\n",
      " \n",
      "Nome modelo: LSI250_Random Forest\n",
      "Quantidade de elementos de treinamento: 712\n",
      "Tempo de treinamento: 0:00:04.760232\n",
      "Feature Type: LSI250\n",
      "Accuracy: 0.5307262569832403\n",
      "Balanced Accuracy: 0.5328811004333899\n",
      "macro_precision 0.5293535944080722 \n",
      "macro_recall    0.5328811004333899 \n",
      "macro_fscore    0.527966825395699\n",
      "micro_precision 0.528814428585947 \n",
      "micro_recall    0.5307262569832403 \n",
      "micro_fscore    0.5266648162442088\n",
      ">> Fazendo Grid Search para classificador Multi-Layer Perceptron\n",
      "Fitting 5 folds for each of 1 candidates, totalling 5 fits\n",
      "[CV] estimator__n_estimators=3, estimator__max_samples=0.8, estimator__base_estimator__solver=lbfgs, estimator__base_estimator__max_iter=300, estimator__base_estimator__learning_rate=invscaling, estimator__base_estimator__hidden_layer_sizes=(10, 10), estimator__base_estimator__alpha=0.001, estimator__base_estimator__activation=relu \n",
      "[CV]  estimator__n_estimators=3, estimator__max_samples=0.8, estimator__base_estimator__solver=lbfgs, estimator__base_estimator__max_iter=300, estimator__base_estimator__learning_rate=invscaling, estimator__base_estimator__hidden_layer_sizes=(10, 10), estimator__base_estimator__alpha=0.001, estimator__base_estimator__activation=relu, total=   3.1s\n",
      "[CV] estimator__n_estimators=3, estimator__max_samples=0.8, estimator__base_estimator__solver=lbfgs, estimator__base_estimator__max_iter=300, estimator__base_estimator__learning_rate=invscaling, estimator__base_estimator__hidden_layer_sizes=(10, 10), estimator__base_estimator__alpha=0.001, estimator__base_estimator__activation=relu \n",
      "[CV]  estimator__n_estimators=3, estimator__max_samples=0.8, estimator__base_estimator__solver=lbfgs, estimator__base_estimator__max_iter=300, estimator__base_estimator__learning_rate=invscaling, estimator__base_estimator__hidden_layer_sizes=(10, 10), estimator__base_estimator__alpha=0.001, estimator__base_estimator__activation=relu, total=   2.8s\n",
      "[CV] estimator__n_estimators=3, estimator__max_samples=0.8, estimator__base_estimator__solver=lbfgs, estimator__base_estimator__max_iter=300, estimator__base_estimator__learning_rate=invscaling, estimator__base_estimator__hidden_layer_sizes=(10, 10), estimator__base_estimator__alpha=0.001, estimator__base_estimator__activation=relu \n",
      "[CV]  estimator__n_estimators=3, estimator__max_samples=0.8, estimator__base_estimator__solver=lbfgs, estimator__base_estimator__max_iter=300, estimator__base_estimator__learning_rate=invscaling, estimator__base_estimator__hidden_layer_sizes=(10, 10), estimator__base_estimator__alpha=0.001, estimator__base_estimator__activation=relu, total=   2.4s\n",
      "[CV] estimator__n_estimators=3, estimator__max_samples=0.8, estimator__base_estimator__solver=lbfgs, estimator__base_estimator__max_iter=300, estimator__base_estimator__learning_rate=invscaling, estimator__base_estimator__hidden_layer_sizes=(10, 10), estimator__base_estimator__alpha=0.001, estimator__base_estimator__activation=relu \n",
      "[CV]  estimator__n_estimators=3, estimator__max_samples=0.8, estimator__base_estimator__solver=lbfgs, estimator__base_estimator__max_iter=300, estimator__base_estimator__learning_rate=invscaling, estimator__base_estimator__hidden_layer_sizes=(10, 10), estimator__base_estimator__alpha=0.001, estimator__base_estimator__activation=relu, total=   3.5s\n",
      "[CV] estimator__n_estimators=3, estimator__max_samples=0.8, estimator__base_estimator__solver=lbfgs, estimator__base_estimator__max_iter=300, estimator__base_estimator__learning_rate=invscaling, estimator__base_estimator__hidden_layer_sizes=(10, 10), estimator__base_estimator__alpha=0.001, estimator__base_estimator__activation=relu \n",
      "[CV]  estimator__n_estimators=3, estimator__max_samples=0.8, estimator__base_estimator__solver=lbfgs, estimator__base_estimator__max_iter=300, estimator__base_estimator__learning_rate=invscaling, estimator__base_estimator__hidden_layer_sizes=(10, 10), estimator__base_estimator__alpha=0.001, estimator__base_estimator__activation=relu, total=   2.6s\n",
      "Tempo para execução do GridSearch para OVR Balanced Bagging Multi-Layer Perceptron para 712 elementos:  0:00:17.327374\n",
      ">> Testando classificador LSI250_Multi-Layer Perceptron\n",
      "Tempo para fazer a predicao de  179 elementos:  0:00:00.011136\n",
      "Tempo para recuperar métricas:  0:00:00.007602\n",
      " \n",
      "Nome modelo: LSI250_Multi-Layer Perceptron\n",
      "Quantidade de elementos de treinamento: 712\n",
      "Tempo de treinamento: 0:00:02.889322\n",
      "Feature Type: LSI250\n",
      "Accuracy: 0.5586592178770949\n",
      "Balanced Accuracy: 0.5582061428302242\n",
      "macro_precision 0.5584775349119612 \n",
      "macro_recall    0.5582061428302242 \n",
      "macro_fscore    0.5579121653949787\n",
      "micro_precision 0.5585040347610181 \n",
      "micro_recall    0.5586592178770949 \n",
      "micro_fscore    0.5581571969209381\n"
     ],
     "output_type": "stream"
    },
    {
     "name": "stderr",
     "text": [
      "[Parallel(n_jobs=3)]: Using backend LokyBackend with 3 concurrent workers.\n",
      "[Parallel(n_jobs=3)]: Done   3 out of   5 | elapsed:    0.8s remaining:    0.6s\n",
      "[Parallel(n_jobs=3)]: Done   5 out of   5 | elapsed:    1.3s finished\n",
      "[Parallel(n_jobs=3)]: Using backend LokyBackend with 3 concurrent workers.\n",
      "[Parallel(n_jobs=3)]: Done   3 out of   5 | elapsed:    5.0s remaining:    3.4s\n",
      "[Parallel(n_jobs=3)]: Done   5 out of   5 | elapsed:    9.5s finished\n",
      "[Parallel(n_jobs=1)]: Using backend SequentialBackend with 1 concurrent workers.\n",
      "[Parallel(n_jobs=1)]: Done   1 out of   1 | elapsed:    3.1s remaining:    0.0s\n",
      "[Parallel(n_jobs=1)]: Done   5 out of   5 | elapsed:   14.4s finished\n"
     ],
     "output_type": "stream"
    }
   ],
   "source": [
    "modeloSVM_LSI250 = func.chama_treinamento_modelo(x_lsi250_train,y_train, x_lsi250_test ,y_test, classificadorSVM,nomeAlgoritmoSVM, 'LSI250',param_grid_melhor_SVM, 1,n_cores_grande,id_execucao ,data,path_resultados,df_resultados,nome_arquivo_destino,X_test)\n",
    "modelos.append([modeloSVM_LSI250.getNome(),modeloSVM_LSI250.getFeatureType(),modeloSVM_LSI250.getMicroPrecision(),modeloSVM_LSI250])\n",
    "\n",
    "modeloRF_LSI250 = func.chama_treinamento_modelo(x_lsi250_train, y_train,x_lsi250_test ,y_test, classificadorRF,nomeAlgoritmoRF, 'LSI250',param_grid_melhor_RF, 1,n_cores_grande,id_execucao ,data,path_resultados,df_resultados,nome_arquivo_destino,X_test)\n",
    "modelos.append([modeloRF_LSI250.getNome(),modeloRF_LSI250.getFeatureType(),modeloRF_LSI250.getMicroPrecision(),modeloRF_LSI250])\n",
    "\n",
    "modeloMLP_LSI250 = func.chama_treinamento_modelo(x_lsi250_train,y_train, x_lsi250_test ,y_test, classificadorMLP, nomeAlgoritmoMLP,'LSI250',param_grid_melhor_MLP, 1,n_cores_pequeno,id_execucao ,data,path_resultados,df_resultados,nome_arquivo_destino,X_test)\n",
    "modelos.append([modeloMLP_LSI250.getNome(),modeloMLP_LSI250.getFeatureType(),modeloMLP_LSI250.getMicroPrecision(),modeloMLP_LSI250])\n"
   ]
  },
  {
   "cell_type": "markdown",
   "metadata": {},
   "source": [
    "Encontrando o modelo vencedor"
   ]
  },
  {
   "cell_type": "code",
   "execution_count": 32,
   "metadata": {
    "pycharm": {
     "is_executing": false
    }
   },
   "outputs": [
    {
     "name": "stdout",
     "text": [
      "O modelo vencedor foi o TFIDF_Multi-Layer Perceptron, com 0.58 de micro precisão\n",
      "O modelo para transformação dos textos pré-processados se encontra no arquivo /home/anarocha/Documents/DocumentosClassificadorAssuntos/DocsProcessados/MelhorModeloFeature.p e o modelo de classificação no arquivo /home/anarocha/Documents/DocumentosClassificadorAssuntos/DocsProcessados/MelhorModelo.p\n"
     ],
     "output_type": "stream"
    }
   ],
   "source": [
    "modelos_df = pd.DataFrame(modelos, columns=['Nome Modelo','Feature Type','micro_precision','Modelo'])\n",
    "modelos_df= modelos_df.sort_values(by='micro_precision', ascending=False)\n",
    "print(\"O modelo vencedor foi o \" + modelos_df.iloc[0]['Nome Modelo'] + \", com \" + (str(\"%.2f\" % modelos_df.iloc[0]['micro_precision'])) + \" de micro precisão\")\n",
    "\n",
    "modelo_vencedor = modelos_df.iloc[0]['Modelo']\n",
    "\n",
    "arquivoPickle = open(path_resultados + \"MelhorModelo.p\", 'wb')\n",
    "pickle.dump(modelo_vencedor.getBestEstimator(), arquivoPickle)\n",
    "arquivoPickle.close()\n",
    "\n",
    "if modelo_vencedor.getFeatureType() == 'LSI100':\n",
    "    feature_vencedora = open(path_resultados + \"MelhorModeloFeature.p\", 'wb')\n",
    "    pickle.dump(lsi100_transformer, feature_vencedora)\n",
    "    feature_vencedora.close()\n",
    "elif modelo_vencedor.getFeatureType() == 'LSI250':\n",
    "    feature_vencedora = open(path_resultados + \"MelhorModeloFeature.p\", 'wb')\n",
    "    pickle.dump(lsi250_transformer, feature_vencedora)\n",
    "    feature_vencedora.close()\n",
    "elif modelo_vencedor.getFeatureType() == 'TFIDF':\n",
    "    feature_vencedora = open(path_resultados + \"MelhorModeloFeature.p\", 'wb')\n",
    "    pickle.dump(tfidf_transformer, feature_vencedora)\n",
    "    feature_vencedora.close()\n",
    "elif modelo_vencedor.getFeatureType() == 'BM25':\n",
    "    feature_vencedora = open(path_resultados + \"MelhorModeloFeature.p\", 'wb')\n",
    "    pickle.dump(bm25_transformer, feature_vencedora)\n",
    "    feature_vencedora.close()\n",
    "    \n",
    "print(\"O modelo para transformação dos textos pré-processados se encontra no arquivo \" + path_resultados + \"MelhorModeloFeature.p\" + \" e o modelo de classificação no arquivo \" + path_resultados + \"MelhorModelo.p\")\n"
   ]
  }
 ],
 "metadata": {
  "kernelspec": {
   "display_name": "Python 3",
   "language": "python",
   "name": "python3"
  },
  "language_info": {
   "codemirror_mode": {
    "name": "ipython",
    "version": 3
   },
   "file_extension": ".py",
   "mimetype": "text/x-python",
   "name": "python",
   "nbconvert_exporter": "python",
   "pygments_lexer": "ipython3",
   "version": "3.7.4"
  },
  "pycharm": {
   "stem_cell": {
    "cell_type": "raw",
    "source": [],
    "metadata": {
     "collapsed": false
    }
   }
  }
 },
 "nbformat": 4,
 "nbformat_minor": 2
}